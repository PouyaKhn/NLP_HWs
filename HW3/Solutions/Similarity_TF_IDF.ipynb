{
  "nbformat": 4,
  "nbformat_minor": 0,
  "metadata": {
    "colab": {
      "name": "Similarity_TF_IDF.ipynb",
      "provenance": [],
      "collapsed_sections": []
    },
    "kernelspec": {
      "name": "python3",
      "display_name": "Python 3"
    },
    "language_info": {
      "name": "python"
    }
  },
  "cells": [
    {
      "cell_type": "markdown",
      "source": [
        "# Data Loading and processing"
      ],
      "metadata": {
        "id": "O67Vn__gWwG8"
      }
    },
    {
      "cell_type": "code",
      "execution_count": null,
      "metadata": {
        "colab": {
          "base_uri": "https://localhost:8080/"
        },
        "id": "ZiTZi38tNA-R",
        "outputId": "e48581a8-92a5-493e-8ab5-ec5f7a6f2e00"
      },
      "outputs": [
        {
          "output_type": "stream",
          "name": "stdout",
          "text": [
            "Cloning into 'course-nlp-ir-1-text-exploring'...\n",
            "remote: Enumerating objects: 401, done.\u001b[K\n",
            "remote: Counting objects: 100% (4/4), done.\u001b[K\n",
            "remote: Compressing objects: 100% (4/4), done.\u001b[K\n",
            "remote: Total 401 (delta 2), reused 0 (delta 0), pack-reused 397\u001b[K\n",
            "Receiving objects: 100% (401/401), 98.78 MiB | 12.92 MiB/s, done.\n",
            "Resolving deltas: 100% (197/197), done.\n",
            "Checking out files: 100% (245/245), done.\n"
          ]
        }
      ],
      "source": [
        "!git clone https://github.com/language-ml/course-nlp-ir-1-text-exploring"
      ]
    },
    {
      "cell_type": "code",
      "source": [
        "!pip install -Uq camel_tools\n",
        "import random \n",
        "import nltk\n",
        "import pandas as pd\n",
        "import codecs\n",
        "import tqdm\n",
        "import random \n",
        "import nltk\n",
        "from pathlib import Path\n",
        "import re\n",
        "from camel_tools.utils.normalize import normalize_unicode\n",
        "from camel_tools.utils.normalize import normalize_alef_maksura_ar\n",
        "from camel_tools.utils.normalize import normalize_alef_ar\n",
        "from camel_tools.utils.normalize import normalize_alef_bw\n",
        "from camel_tools.utils.normalize import normalize_alef_hsb\n",
        "from camel_tools.utils.normalize import normalize_teh_marbuta_ar\n",
        "from camel_tools.utils.dediac import dediac_ar\n",
        "from camel_tools.utils import normalize\n",
        "import _pickle as pickle\n",
        "from sklearn.feature_extraction.text import TfidfVectorizer\n",
        "from sklearn.metrics.pairwise import linear_kernel\n",
        "\n",
        "quranic_dir = \"/content/course-nlp-ir-1-text-exploring/exploring-datasets/religious_text\"\n",
        "df_quran = pd.read_csv(f'{quranic_dir}/quranic_data/id_text_with_orthographies.txt', sep='\\t', header=None)\n",
        "df_nahj = pd.read_csv(f'{quranic_dir}/nahj-al-balaqa/Nahj Al-Balaqa.txt', sep='\\t',header=None)\n",
        "verse_complete_dict = pd.Series(df_quran[1].tolist(), index=df_quran[0]).to_dict()\n",
        "nahj_complete_dict = pd.Series(df_nahj[1].tolist(), index=df_nahj[0]).to_dict()"
      ],
      "metadata": {
        "id": "qqOLyjhGS3cx",
        "colab": {
          "base_uri": "https://localhost:8080/"
        },
        "outputId": "04e73f00-3cad-4ce4-ec0d-6df7b44be07b"
      },
      "execution_count": null,
      "outputs": [
        {
          "output_type": "stream",
          "name": "stdout",
          "text": [
            "\u001b[K     |████████████████████████████████| 114 kB 4.3 MB/s \n",
            "\u001b[K     |████████████████████████████████| 4.2 MB 26.5 MB/s \n",
            "\u001b[K     |████████████████████████████████| 175 kB 67.6 MB/s \n",
            "\u001b[K     |████████████████████████████████| 418 kB 57.8 MB/s \n",
            "\u001b[K     |████████████████████████████████| 86 kB 5.3 MB/s \n",
            "\u001b[K     |████████████████████████████████| 6.6 MB 61.2 MB/s \n",
            "\u001b[K     |████████████████████████████████| 596 kB 79.6 MB/s \n",
            "\u001b[?25h  Building wheel for camel-kenlm (setup.py) ... \u001b[?25l\u001b[?25hdone\n",
            "  Building wheel for emoji (setup.py) ... \u001b[?25l\u001b[?25hdone\n"
          ]
        }
      ]
    },
    {
      "cell_type": "code",
      "source": [
        "sahife_text=Path(f'{quranic_dir}/Saheefa/sahife_sajjadieh.txt').read_text().split('\\n')\n",
        "sahife_complete_dict = [re.sub('[(][۰-۹]+[)]','', item) for item in sahife_text if item.startswith('(')]"
      ],
      "metadata": {
        "id": "XQ5yonDq5RmL"
      },
      "execution_count": null,
      "outputs": []
    },
    {
      "cell_type": "code",
      "source": [
        "sahife_complete_dict[12]"
      ],
      "metadata": {
        "colab": {
          "base_uri": "https://localhost:8080/",
          "height": 36
        },
        "id": "zYmWmMuZ6NKq",
        "outputId": "cffe42b2-49d0-4769-e139-1d20e7db59c0"
      },
      "execution_count": null,
      "outputs": [
        {
          "output_type": "execute_result",
          "data": {
            "text/plain": [
              "' حَمْداً یَرْتَفِعُ مِنَّا إِلَی أَعْلَی عِلِّیِّینَ فِي کِتَابٍ مَرْقُومٍ یَشْهَدُه\\u200cُ الْمُقَرَّبُونَ. '"
            ],
            "application/vnd.google.colaboratory.intrinsic+json": {
              "type": "string"
            }
          },
          "metadata": {},
          "execution_count": 5
        }
      ]
    },
    {
      "cell_type": "code",
      "source": [
        "nahj_complete_dict['2##186']"
      ],
      "metadata": {
        "colab": {
          "base_uri": "https://localhost:8080/",
          "height": 36
        },
        "id": "cCiaD8k30_CF",
        "outputId": "6e1bfde1-acc2-4325-ae25-780a60b3fac8"
      },
      "execution_count": null,
      "outputs": [
        {
          "output_type": "execute_result",
          "data": {
            "text/plain": [
              "'وَ قَالَ ع لِلظّالِمِ الباَدیِ غَداً بِکَفّهِ عَضّةٌ'"
            ],
            "application/vnd.google.colaboratory.intrinsic+json": {
              "type": "string"
            }
          },
          "metadata": {},
          "execution_count": 6
        }
      ]
    },
    {
      "cell_type": "code",
      "source": [
        "verse_complete_dict['2##186']"
      ],
      "metadata": {
        "colab": {
          "base_uri": "https://localhost:8080/",
          "height": 36
        },
        "id": "hG44UkxzTSj_",
        "outputId": "04801296-4dfa-4b6a-d1fd-d0477d7fceb2"
      },
      "execution_count": null,
      "outputs": [
        {
          "output_type": "execute_result",
          "data": {
            "text/plain": [
              "'وَإِذَا سَأَلَكَ عِبَادِي عَنِّي فَإِنِّي قَرِيبٌ ۖ أُجِيبُ دَعْوَةَ الدَّاعِ إِذَا دَعَانِ ۖ فَلْيَسْتَجِيبُوا لِي وَلْيُؤْمِنُوا بِي لَعَلَّهُمْ يَرْشُدُونَ'"
            ],
            "application/vnd.google.colaboratory.intrinsic+json": {
              "type": "string"
            }
          },
          "metadata": {},
          "execution_count": 7
        }
      ]
    },
    {
      "cell_type": "markdown",
      "source": [
        "### Normalize"
      ],
      "metadata": {
        "id": "x0Qok8hCW-MM"
      }
    },
    {
      "cell_type": "code",
      "source": [
        "def normalize_arabic(sentence):\n",
        "\n",
        "    # Normalize alef variants to 'ا'\n",
        "    sent_norm = normalize_unicode(sentence)\n",
        "    \n",
        "    sent_norm = normalize_alef_bw(sent_norm)\n",
        "    # Normalize alef variants to 'ا'\n",
        "    sent_norm = normalize_alef_ar(sentence)\n",
        "\n",
        "    # Normalize alef maksura 'ى' to yeh 'ي'\n",
        "    sent_norm = normalize_alef_maksura_ar(sent_norm)\n",
        "\n",
        "    # Normalize teh marbuta 'ة' to heh 'ه'\n",
        "    sent_norm = normalize_teh_marbuta_ar(sent_norm)\n",
        "    return dediac_ar(sent_norm)"
      ],
      "metadata": {
        "id": "SBZgSk_qVfPf"
      },
      "execution_count": null,
      "outputs": []
    },
    {
      "cell_type": "code",
      "source": [
        "verse_complete_dict_nrmlz = {k:normalize_arabic(v) for k,v in tqdm.tqdm(verse_complete_dict.items())}\n",
        "nahj_complete_dict_nrmlz = {k:normalize_arabic(v) for k,v in tqdm.tqdm(nahj_complete_dict.items())}\n",
        "sahife_complete_dict_nrmlz = [normalize_arabic(item) for item in tqdm.tqdm(sahife_complete_dict)]"
      ],
      "metadata": {
        "colab": {
          "base_uri": "https://localhost:8080/"
        },
        "id": "PgTbrIJQV6Do",
        "outputId": "ac90a13a-3e64-4f35-c37c-7956f0146ef4"
      },
      "execution_count": null,
      "outputs": [
        {
          "output_type": "stream",
          "name": "stderr",
          "text": [
            "100%|██████████| 6236/6236 [00:00<00:00, 16067.83it/s]\n",
            "100%|██████████| 800/800 [00:00<00:00, 3642.68it/s]\n",
            "100%|██████████| 924/924 [00:00<00:00, 9537.76it/s]\n"
          ]
        }
      ]
    },
    {
      "cell_type": "code",
      "source": [
        "print(verse_complete_dict['2##186'])\n",
        "print(verse_complete_dict_nrmlz['2##186'])\n",
        "\n",
        "print(nahj_complete_dict['2##186'])\n",
        "print(nahj_complete_dict_nrmlz['2##186'])\n",
        "\n",
        "print(sahife_complete_dict[34])\n",
        "print(sahife_complete_dict_nrmlz[34])"
      ],
      "metadata": {
        "colab": {
          "base_uri": "https://localhost:8080/"
        },
        "id": "VhfSxrvmWDYr",
        "outputId": "eafd36bd-4c72-4a23-d30a-7b1f761e4f04"
      },
      "execution_count": null,
      "outputs": [
        {
          "output_type": "stream",
          "name": "stdout",
          "text": [
            "وَإِذَا سَأَلَكَ عِبَادِي عَنِّي فَإِنِّي قَرِيبٌ ۖ أُجِيبُ دَعْوَةَ الدَّاعِ إِذَا دَعَانِ ۖ فَلْيَسْتَجِيبُوا لِي وَلْيُؤْمِنُوا بِي لَعَلَّهُمْ يَرْشُدُونَ\n",
            "واذا سالك عبادي عني فاني قريب ۖ اجيب دعوه الداع اذا دعان ۖ فليستجيبوا لي وليؤمنوا بي لعلهم يرشدون\n",
            "وَ قَالَ ع لِلظّالِمِ الباَدیِ غَداً بِکَفّهِ عَضّةٌ\n",
            "و قال ع للظالم البادی غدا بکفه عضه\n",
            " وَ کَاشَفَ فِي الدُّعَاءِ إِلَیْکَ حَامَّتَه‌ُ \n",
            " و کاشف في الدعاء الیک حامته‌ \n"
          ]
        }
      ]
    },
    {
      "cell_type": "code",
      "source": [
        "quranic_tokenized = [sents.split() for sents in tqdm.tqdm(verse_complete_dict_nrmlz.values())]\n",
        "nahj_tokenized = [sents.split() for sents in tqdm.tqdm(nahj_complete_dict_nrmlz.values())]\n",
        "sahife_tokenized = [sents.split() for sents in tqdm.tqdm(sahife_complete_dict_nrmlz)]"
      ],
      "metadata": {
        "colab": {
          "base_uri": "https://localhost:8080/"
        },
        "id": "MPLCLAWyWvJ7",
        "outputId": "020e5bf3-4e57-41be-dbb1-889c0537156a"
      },
      "execution_count": null,
      "outputs": [
        {
          "output_type": "stream",
          "name": "stderr",
          "text": [
            "100%|██████████| 6236/6236 [00:00<00:00, 162481.86it/s]\n",
            "100%|██████████| 800/800 [00:00<00:00, 68023.09it/s]\n",
            "100%|██████████| 924/924 [00:00<00:00, 226163.45it/s]\n"
          ]
        }
      ]
    },
    {
      "cell_type": "code",
      "source": [
        "quranic_tokenized[43]"
      ],
      "metadata": {
        "colab": {
          "base_uri": "https://localhost:8080/"
        },
        "id": "VzDxGwAeWO0f",
        "outputId": "b9d240dd-9b2a-4a70-c2b3-aecd684a9d84"
      },
      "execution_count": null,
      "outputs": [
        {
          "output_type": "execute_result",
          "data": {
            "text/plain": [
              "['فتلقي',\n",
              " 'ادم',\n",
              " 'من',\n",
              " 'ربه',\n",
              " 'كلمات',\n",
              " 'فتاب',\n",
              " 'عليه',\n",
              " 'ۚ',\n",
              " 'انه',\n",
              " 'هو',\n",
              " 'التواب',\n",
              " 'الرحيم']"
            ]
          },
          "metadata": {},
          "execution_count": 12
        }
      ]
    },
    {
      "cell_type": "code",
      "source": [
        "nahj_tokenized[43]"
      ],
      "metadata": {
        "id": "FAjmjfiKXmAm",
        "colab": {
          "base_uri": "https://localhost:8080/"
        },
        "outputId": "f969c407-c77f-4237-bb29-44cbfa361a18"
      },
      "execution_count": null,
      "outputs": [
        {
          "output_type": "execute_result",
          "data": {
            "text/plain": [
              "['قبح',\n",
              " 'الله',\n",
              " 'مصقله',\n",
              " 'فعل',\n",
              " 'فعل',\n",
              " 'الساده',\n",
              " 'و',\n",
              " 'فر',\n",
              " 'فرار',\n",
              " 'العبید',\n",
              " 'فما',\n",
              " 'انطق',\n",
              " 'مادحه',\n",
              " 'حتی',\n",
              " 'اسکته',\n",
              " 'و',\n",
              " 'لا',\n",
              " 'صدق',\n",
              " 'واصفه',\n",
              " 'حتی',\n",
              " 'بکته',\n",
              " 'و',\n",
              " 'لو',\n",
              " 'اقام',\n",
              " 'لاخذنا',\n",
              " 'میسوره',\n",
              " 'و',\n",
              " 'انتظرنا',\n",
              " 'بماله',\n",
              " 'وفوره']"
            ]
          },
          "metadata": {},
          "execution_count": 13
        }
      ]
    },
    {
      "cell_type": "code",
      "source": [
        "sahife_tokenized[34]"
      ],
      "metadata": {
        "colab": {
          "base_uri": "https://localhost:8080/"
        },
        "id": "UndqYn-Y4L8G",
        "outputId": "31e11a8e-5634-4296-9fa2-dc44e8ea5023"
      },
      "execution_count": null,
      "outputs": [
        {
          "output_type": "execute_result",
          "data": {
            "text/plain": [
              "['و', 'کاشف', 'في', 'الدعاء', 'الیک', 'حامته\\u200c']"
            ]
          },
          "metadata": {},
          "execution_count": 14
        }
      ]
    },
    {
      "cell_type": "markdown",
      "source": [
        "# Part 1 (TF-IDF)"
      ],
      "metadata": {
        "id": "SoVjAddjSisF"
      }
    },
    {
      "cell_type": "code",
      "source": [
        "#Normalize all verses from quran, Nahj, and Sahife\n",
        "#_____________________________________________________________________________________________\n",
        "verse_dict_nrmlz = {k:normalize_arabic(v) for k,v in tqdm.tqdm(verse_complete_dict.items())}\n",
        "nahj_dict_nrmlz = {k:normalize_arabic(v) for k,v in tqdm.tqdm(nahj_complete_dict.items())}\n",
        "sahife_dict_nrmlz = {normalize_arabic(v) for v in tqdm.tqdm(sahife_complete_dict)}\n",
        "#_____________________________________________________________________________________________"
      ],
      "metadata": {
        "colab": {
          "base_uri": "https://localhost:8080/"
        },
        "id": "leyVC9A6X4Ro",
        "outputId": "8b587631-e518-4bf7-d163-f766b670600a"
      },
      "execution_count": null,
      "outputs": [
        {
          "output_type": "stream",
          "name": "stderr",
          "text": [
            "100%|██████████| 6236/6236 [00:00<00:00, 11174.55it/s]\n",
            "100%|██████████| 800/800 [00:00<00:00, 3515.74it/s]\n",
            "100%|██████████| 924/924 [00:00<00:00, 7923.86it/s]\n"
          ]
        }
      ]
    },
    {
      "cell_type": "code",
      "source": [
        "# Converting standard and normalize dictionaries(index:verse) from quran, Nahj, and Sahife to Pandas DataFrame\n",
        "# with column names: num and verse\n",
        "#_____________________________________________________________________________________________________________\n",
        "df_verse_complete_dict = pd.DataFrame(list(verse_complete_dict.items()), columns = ['num','verse'])\n",
        "df_verse_complete_dict_nrmlz = pd.DataFrame(list(verse_dict_nrmlz.items()), columns = ['num','verse'])\n",
        "df_nahj_complete_dict = pd.DataFrame(list(nahj_complete_dict.items()), columns = ['num','verse'])\n",
        "df_nahj_complete_dict_nrmlz = pd.DataFrame(list(nahj_dict_nrmlz.items()), columns = ['num','verse'])\n",
        "df_sahife_complete_dict = pd.DataFrame(list(sahife_complete_dict), columns = ['verse'])\n",
        "df_sahife_complete_dict_nrmlz = pd.DataFrame(list(sahife_dict_nrmlz), columns= ['verse'])\n",
        "#_____________________________________________________________________________________________________________"
      ],
      "metadata": {
        "id": "iC2P8TkihVKn"
      },
      "execution_count": null,
      "outputs": []
    },
    {
      "cell_type": "code",
      "source": [
        "# Create TfidfVectorizer object (first three ones are Word level and others are Character Level)\n",
        "#________________________________________________________________________________________________\n",
        "vectorizer_quran = TfidfVectorizer(lowercase = False)\n",
        "vectorizer_nahj = TfidfVectorizer(lowercase = False)\n",
        "vectorizer_sahife = TfidfVectorizer(lowercase = False)\n",
        "vectorizer_quran_char = TfidfVectorizer(lowercase = False,analyzer='char')\n",
        "vectorizer_nahj_char = TfidfVectorizer(lowercase = False,analyzer='char')\n",
        "vectorizer_sahife_char = TfidfVectorizer(lowercase = False,analyzer='char')\n",
        "#________________________________________________________________________________________________"
      ],
      "metadata": {
        "id": "9Tkoxsm8c18U"
      },
      "execution_count": null,
      "outputs": []
    },
    {
      "cell_type": "code",
      "source": [
        "# Generate matrices of word vectors\n",
        "#________________________________________________________________________________________________\n",
        "tfidf_matrix_quran = vectorizer_quran.fit_transform(df_verse_complete_dict_nrmlz['verse'])\n",
        "tfidf_matrix_nahj = vectorizer_nahj.fit_transform(df_nahj_complete_dict_nrmlz['verse'])\n",
        "tfidf_matrix_sahife = vectorizer_sahife.fit_transform(df_sahife_complete_dict_nrmlz['verse'])\n",
        "tfidf_matrix_quran_char = vectorizer_quran_char.fit_transform(df_verse_complete_dict_nrmlz['verse'])\n",
        "tfidf_matrix_nahj_char = vectorizer_nahj_char.fit_transform(df_nahj_complete_dict_nrmlz['verse'])\n",
        "tfidf_matrix_sahife_char = vectorizer_sahife_char.fit_transform(df_sahife_complete_dict_nrmlz['verse'])\n",
        "#________________________________________________________________________________________________\n",
        "\n",
        "# Print shapes of tfidf_matrices\n",
        "#________________________________________________________________________________________________\n",
        "print(\"Shape of tfidf_matrix(Word-Level) of quran is: \",tfidf_matrix_quran.shape)\n",
        "print(\"Shape of tfidf_matrix(Word-Level) of Nahj is: \",tfidf_matrix_nahj.shape)\n",
        "print(\"Shape of tfidf_matrix(Word-Level) of Sahife is: \",tfidf_matrix_sahife.shape)\n",
        "print(\"Shape of tfidf_matrix of quran is: \",tfidf_matrix_quran_char.shape)\n",
        "print(\"Shape of tfidf_matrix of Nahj is: \",tfidf_matrix_nahj_char.shape)\n",
        "print(\"Shape of tfidf_matrix of Sahife is: \",tfidf_matrix_sahife_char.shape)\n",
        "#________________________________________________________________________________________________"
      ],
      "metadata": {
        "colab": {
          "base_uri": "https://localhost:8080/"
        },
        "id": "lWGUITFRyCVa",
        "outputId": "0c0cdd12-8977-42cb-c079-da2d5c1f03aa"
      },
      "execution_count": null,
      "outputs": [
        {
          "output_type": "stream",
          "name": "stdout",
          "text": [
            "Shape of tfidf_matrix(Word-Level) of quran is:  (6236, 14658)\n",
            "Shape of tfidf_matrix(Word-Level) of Nahj is:  (800, 21094)\n",
            "Shape of tfidf_matrix(Word-Level) of Sahife is:  (924, 7711)\n",
            "Shape of tfidf_matrix of quran is:  (6236, 40)\n",
            "Shape of tfidf_matrix of Nahj is:  (800, 36)\n",
            "Shape of tfidf_matrix of Sahife is:  (924, 47)\n"
          ]
        }
      ]
    },
    {
      "cell_type": "code",
      "source": [
        "#extract all (index:verse) pairs in DataFrames\n",
        "#____________________________________________________________________________________________________________________\n",
        "quran_indices_nrmlz = pd.Series(df_verse_complete_dict_nrmlz.index, index = df_verse_complete_dict_nrmlz['verse'])\n",
        "nahj_indices_nrmlz = pd.Series(df_nahj_complete_dict_nrmlz.index, index = df_nahj_complete_dict_nrmlz['verse'])\n",
        "sahife_indices_nrmlz = pd.Series(df_sahife_complete_dict_nrmlz.index, index = df_sahife_complete_dict_nrmlz['verse'])\n",
        "#____________________________________________________________________________________________________________________"
      ],
      "metadata": {
        "id": "MjEoxdoVgRJ2"
      },
      "execution_count": null,
      "outputs": []
    },
    {
      "cell_type": "code",
      "source": [
        "# Here you should enter input sentence for TF-IDF based similarity detection\n",
        "#____________________________________________________________________________________________________________________\n",
        "\n",
        "input = [normalize_arabic('مِنْ شَرِّ الْوَسْوَاسِ الْخَنَّاسِ')]\n",
        "#____________________________________________________________________________________________________________________"
      ],
      "metadata": {
        "id": "cCDmgKT4gryJ"
      },
      "execution_count": null,
      "outputs": []
    },
    {
      "cell_type": "code",
      "source": [
        "def get_similars_from_quran(input, vectors, indices, mode='word'):\n",
        "    \"\"\"\n",
        "    Function for find input's similar verses from quran\n",
        "    input: input sentence\n",
        "    vectors: TF-IDF matrix\n",
        "    indices: (index:verse) pairs from quran\n",
        "    mode: 'word' for Word-Level or 'char' for Character-Level\n",
        "    \"\"\"\n",
        "\n",
        "    if mode == 'word':\n",
        "          tfidf_matrix_input = vectorizer_quran.transform(input)\n",
        "          linear_sim = linear_kernel(tfidf_matrix_input , tfidf_matrix_quran)\n",
        "    elif mode == 'char':\n",
        "          tfidf_matrix_input = vectorizer_quran_char.transform(input)\n",
        "          linear_sim = linear_kernel(tfidf_matrix_input , tfidf_matrix_quran_char)\n",
        "\n",
        "    # Get the pairwsie similarity scores\n",
        "    sim_scores = list(enumerate(linear_sim[0]))\n",
        "\n",
        "    # Sort the verses based on the similarity scores\n",
        "    sim_scores = sorted(sim_scores, key=lambda x: x[1], reverse=True)\n",
        "    # Get the scores for 10 most similar verses\n",
        "    sim_scores = sim_scores[0:10]\n",
        "\n",
        "    # Get the verses indices\n",
        "    indices = [i[0] for i in sim_scores]\n",
        "\n",
        "    # Return the top 10 most similar verses\n",
        "    return df_verse_complete_dict['verse'].iloc[indices]"
      ],
      "metadata": {
        "id": "DbF2OIhDfKCD"
      },
      "execution_count": null,
      "outputs": []
    },
    {
      "cell_type": "code",
      "source": [
        "def get_similars_from_nahj(input, vectors, indices, mode = 'word'):\n",
        "    \"\"\"\n",
        "    Function for find input's similar verses from Nahj\n",
        "    input: input sentence\n",
        "    vectors: TF-IDF matrix\n",
        "    indices: (index:verse) pairs from quran\n",
        "    mode: 'word' for Word-Level or 'char' for Character-Level\n",
        "    \"\"\"\n",
        "    if mode == 'word':\n",
        "          tfidf_matrix_input = vectorizer_nahj.transform(input)\n",
        "          linear_sim = linear_kernel(tfidf_matrix_input , tfidf_matrix_nahj)\n",
        "    elif mode == 'char':\n",
        "          tfidf_matrix_input = vectorizer_nahj_char.transform(input)\n",
        "          linear_sim = linear_kernel(tfidf_matrix_input , tfidf_matrix_nahj_char)\n",
        "\n",
        "\n",
        "    # Get the pairwsie similarity scores\n",
        "    sim_scores = list(enumerate(linear_sim[0]))\n",
        "\n",
        "    # Sort the verses based on the similarity scores\n",
        "    sim_scores = sorted(sim_scores, key=lambda x: x[1], reverse=True)\n",
        "    # Get the scores for 10 most similar verses\n",
        "    sim_scores = sim_scores[0:10]\n",
        "\n",
        "    # Get the verses indices\n",
        "    indices = [i[0] for i in sim_scores]\n",
        "\n",
        "    # Return the top 10 most similar verses\n",
        "    return df_nahj_complete_dict['verse'].iloc[indices]"
      ],
      "metadata": {
        "id": "B39bNA_joijS"
      },
      "execution_count": null,
      "outputs": []
    },
    {
      "cell_type": "code",
      "source": [
        "def get_similars_from_sahife(input, vectors, indices, mode='word'):\n",
        "    \"\"\"\n",
        "    Function for find input's similar verses from Sahife\n",
        "    input: input sentence\n",
        "    vectors: TF-IDF matrix\n",
        "    indices: (index:verse) pairs from quran\n",
        "    mode: 'word' for Word-Level or 'char' for Character-Level\n",
        "    \"\"\"\n",
        "    if mode == 'word':\n",
        "          tfidf_matrix_input = vectorizer_sahife.transform(input)\n",
        "          linear_sim = linear_kernel(tfidf_matrix_input , tfidf_matrix_sahife)\n",
        "    elif mode == 'char':\n",
        "          tfidf_matrix_input = vectorizer_sahife_char.transform(input)\n",
        "          linear_sim = linear_kernel(tfidf_matrix_input , tfidf_matrix_sahife_char)\n",
        "\n",
        "    # Get the pairwsie similarity scores\n",
        "    sim_scores = list(enumerate(linear_sim[0]))\n",
        "\n",
        "    # Sort the verses based on the similarity scores\n",
        "    sim_scores = sorted(sim_scores, key=lambda x: x[1], reverse=True)\n",
        "    # Get the scores for 10 most similar verses\n",
        "    sim_scores = sim_scores[0:10]\n",
        "\n",
        "    # Get the verses indices\n",
        "    indices = [i[0] for i in sim_scores]\n",
        "\n",
        "    # Return the top 10 most similar verses\n",
        "    return df_sahife_complete_dict['verse'].iloc[indices]"
      ],
      "metadata": {
        "id": "wu8R6GaLoivh"
      },
      "execution_count": null,
      "outputs": []
    },
    {
      "cell_type": "code",
      "source": [
        "# Find similar verses\n",
        "#____________________________________________________________________________________________________________________\n",
        "QW = pd.DataFrame(get_similars_from_quran(input, vectorizer_quran , quran_indices_nrmlz, 'word'))\n",
        "NW = pd.DataFrame(get_similars_from_nahj(input, vectorizer_nahj , nahj_indices_nrmlz, 'word'))\n",
        "SW = pd.DataFrame(get_similars_from_sahife(input, vectorizer_sahife , sahife_indices_nrmlz, 'word'))\n",
        "#____________________________________________________________________________________________________________________\n",
        "print(\"Similar verses from quran (WORD-LEVEL):\")\n",
        "print(QW.to_markdown())\n",
        "print(\"Similar verses from Nahj (WORD-LEVEL):\")\n",
        "print(NW.to_markdown())\n",
        "print(\"Similar verses from Sahife (WORD-LEVEL):\")\n",
        "print(SW.to_markdown())"
      ],
      "metadata": {
        "colab": {
          "base_uri": "https://localhost:8080/"
        },
        "id": "Auqu-60emQ4F",
        "outputId": "af349364-6e9f-4494-b37e-2cbf35fc9ff4"
      },
      "execution_count": null,
      "outputs": [
        {
          "output_type": "stream",
          "name": "stdout",
          "text": [
            "Similar verses from quran (WORD-LEVEL):\n",
            "|      | verse                                                                              |\n",
            "|-----:|:-----------------------------------------------------------------------------------|\n",
            "| 6233 | مِنْ شَرِّ الْوَسْوَاسِ الْخَنَّاسِ                                                               |\n",
            "| 6226 | مِنْ شَرِّ مَا خَلَقَ                                                                       |\n",
            "| 6228 | وَمِنْ شَرِّ النَّفَّاثَاتِ فِي الْعُقَدِ                                                           |\n",
            "| 6227 | وَمِنْ شَرِّ غَاسِقٍ إِذَا وَقَبَ                                                                |\n",
            "| 6229 | وَمِنْ شَرِّ حَاسِدٍ إِذَا حَسَدَ                                                                |\n",
            "| 1214 | إِنَّ شَرَّ الدَّوَابِّ عِنْدَ اللَّهِ الَّذِينَ كَفَرُوا فَهُمْ لَا يُؤْمِنُونَ                                    |\n",
            "| 1181 | إِنَّ شَرَّ الدَّوَابِّ عِنْدَ اللَّهِ الصُّمُّ الْبُكْمُ الَّذِينَ لَا يَعْقِلُونَ                                   |\n",
            "| 6135 | إِنَّ الَّذِينَ كَفَرُوا مِنْ أَهْلِ الْكِتَابِ وَالْمُشْرِكِينَ فِي نَارِ جَهَنَّمَ خَالِدِينَ فِيهَا ۚ أُولَٰئِكَ هُمْ شَرُّ الْبَرِيَّةِ |\n",
            "| 2888 | الَّذِينَ يُحْشَرُونَ عَلَىٰ وُجُوهِهِمْ إِلَىٰ جَهَنَّمَ أُولَٰئِكَ شَرٌّ مَكَانًا وَأَضَلُّ سَبِيلًا                         |\n",
            "| 5601 | فَوَقَاهُمُ اللَّهُ شَرَّ ذَٰلِكَ الْيَوْمِ وَلَقَّاهُمْ نَضْرَةً وَسُرُورًا                                        |\n",
            "Similar verses from Nahj (WORD-LEVEL):\n",
            "|     | verse                                                                                                                                                                                                                                                                                                                                                              |\n",
            "|----:|:-------------------------------------------------------------------------------------------------------------------------------------------------------------------------------------------------------------------------------------------------------------------------------------------------------------------------------------------------------------------|\n",
            "| 557 | وَ قَالَ ع المَرأَةُ شَرّ کُلّهَا وَ شَرّ مَا فِیهَا أَنّهُ لَا بُدّ مِنهَا                                                                                                                                                                                                                                                                                                                 |\n",
            "| 798 | وَ قَالَ ع شَرّ الإِخوَانِ مَن تُکُلّفَ لَهُ                                                                                                                                                                                                                                                                                                                                      |\n",
            "| 351 | وَ قَالَ ع فَاعِلُ الخَیرِ خَیرٌ مِنهُ وَ فَاعِلُ الشّرّ شَرّ مِنهُ                                                                                                                                                                                                                                                                                                                      |\n",
            "| 688 | وَ قَالَ ع یأَتیِ عَلَی النّاسِ زَمَانٌ لَا یَبقَی فِیهِم مِنَ القُرآنِ إِلّا رَسمُهُ وَ مِنَ الإِسلَامِ إِلّا اسمُهُ وَ مَسَاجِدُهُم یَومَئِذٍ عَامِرَةٌ مِنَ البِنَاءِ خَرَابٌ مِنَ الهُدَی سُکّانُهَا وَ عُمّارُهَا شَرّ أَهلِ الأَرضِ مِنهُم تَخرُجُ الفِتنَةُ وَ إِلَیهِم تأَویِ الخَطِیئَةُ یَرُدّونَ مَن شَذّ عَنهَا فِیهَا وَ یَسُوقُونَ مَن تَأَخّرَ عَنهَا إِلَیهَا یَقُولُ اللّهُ سُبحَانَهُ فبَیِ حَلَفتُ لَأَبعَثَنّ عَلَی أُولَئِکَ فِتنَةً تَترُکُ الحَلِیمَ فِیهَا حَیرَانَ وَ قَد فَعَلَ وَ نَحنُ نَستَقِیلُ اللّهَ عَثرَةَ الغَفلَةِ |\n",
            "| 706 | وَ قَالَ ع مَا خَیرٌ بِخَیرٍ بَعدَهُ النّارُ وَ مَا شَرّ بِشَرّ بَعدَهُ الجَنّةُ وَ کُلّ نَعِیمٍ دُونَ الجَنّةِ فَهُوَ مَحقُورٌ وَ کُلّ بَلَاءٍ دُونَ النّارِ عَافِیَةٌ                                                                                                                                                                                                                                                      |\n",
            "|  25 | إِنّ اللّهَ بَعَثَ مُحَمّداً\u001eص نَذِیراً لِلعَالَمِینَ وَ أَمِیناً عَلَی التّنزِیلِ وَ أَنتُم مَعشَرَ العَرَبِ عَلَی شَرّ دِینٍ وَ فِی شَرّ دَارٍ مُنِیخُونَ بَینَ حِجَارَةٍ خُشنٍ وَ حَیّاتٍ صُمّ تَشرَبُونَ الکَدِرَ وَ تَأکُلُونَ الجَشِبَ وَ تَسفِکُونَ دِمَاءَکُم وَ تَقطَعُونَ أَرحَامَکُم الأَصنَامُ فِیکُم مَنصُوبَةٌ وَ الآثَامُ بِکُم مَعصُوبَةٌ فَنَظَرتُ فَإِذَا لَیسَ لِی مُعِینٌ إِلّا أَهلُ بیَتیِ فَضَنِنتُ بِهِم عَنِ المَوتِ وَ أَغضَیتُ عَلَی القَذَی وَ شَرِبتُ عَلَی الشّجَا وَ صَبَرتُ عَلَی أَخذِ الکَظَمِ وَ عَلَی أَمَرّ مِن طَعمِ العَلقَمِ ومنها وَ لَم یُبَایِع حَتّی شَرَطَ أَن یُؤتِیَهُ عَلَی البَیعَةِ ثَمَناً فَلَا ظَفِرَت یَدُ البَائِعِ وَ خَزِیَت أَمَانَةُ المُبتَاعِ فَخُذُوا لِلحَربِ أُهبَتَهَا وَ أَعِدّوا لَهَا عُدّتَهَا فَقَد شَبّ لَظَاهَا وَ عَلَا سَنَاهَا وَ استَشعِرُوا الصّبرَ فَإِنّهُ أَدعَی إِلَی النّصرِ                                                                                                                                                                                                                                                                                                                                                                    |\n",
            "| 245 | وَ إِنّ عَمَلَکَ لَیسَ لَکَ بِطُعمَةٍ وَ لَکِنّهُ فِی عُنُقِکَ أَمَانَةٌ وَ أَنتَ مُستَرعًی لِمَن فَوقَکَ لَیسَ لَکَ أَن تَفتَاتَ فِی رَعِیّةٍ وَ لَا تُخَاطِرَ إِلّا بِوَثِیقَةٍ وَ فِی یَدَیکَ مَالٌ مِن مَالِ اللّهِ عَزّ وَ جَلّ وَ أَنتَ مِن خُزّانِهِ حَتّی تُسَلّمَهُ إلِیَ‌ّ وَ لعَلَیّ أَلّا أَکُونَ شَرّ وُلَاتِکَ لَکَ وَ السّلَامُ                                                                                                                                                |\n",
            "| 267 | فَاخفِض لَهُم جَنَاحَکَ وَ أَلِن لَهُم جَانِبَکَ وَ ابسُط لَهُم وَجهَکَ وَ آسِ بَینَهُم فِی اللّحظَةِ وَ النّظرَةِ حَتّی لَا یَطمَعَ العُظَمَاءُ فِی حَیفِکَ لَهُم وَ لَا یَیأَسَ الضّعَفَاءُ مِن عَدلِکَ عَلَیهِم فَإِنّ اللّهَ تَعَالَی یُسَائِلُکُم مَعشَرَ عِبَادِهِ عَنِ الصّغِیرَةِ مِن أَعمَالِکُم وَ الکَبِیرَةِ وَ الظّاهِرَةِ وَ المَستُورَةِ فَإِن یُعَذّب فَأَنتُم أَظلَمُ وَ إِن یَعفُ فَهُوَ أَکرَمُ وَ اعلَمُوا عِبَادَ اللّهِ أَنّ المُتّقِینَ ذَهَبُوا بِعَاجِلِ الدّنیَا وَ آجِلِ الآخِرَةِ فَشَارَکُوا أَهلَ الدّنیَا فِی دُنیَاهُم وَ لَم یُشَارِکُوا أَهلَ الدّنیَا فِی آخِرَتِهِم سَکَنُوا الدّنیَا بِأَفضَلِ مَا سُکِنَت وَ أَکَلُوهَا بِأَفضَلِ مَا أُکِلَت فَحَظُوا مِنَ الدّنیَا بِمَا حظَیِ‌َ بِهِ المُترَفُونَ وَ أَخَذُوا مِنهَا مَا أَخَذَهُ الجَبَابِرَةُ المُتَکَبّرُونَ ثُمّ انقَلَبُوا عَنهَا بِالزّادِ المُبَلّغِ وَ المَتجَرِ الرّابِحِ أَصَابُوا لَذّةَ زُهدِ الدّنیَا فِی دُنیَاهُم وَ تَیَقّنُوا أَنّهُم جِیرَانُ اللّهِ غَداً فِی آخِرَتِهِم لَا تُرَدّ لَهُم دَعوَةٌ وَ لَا یَنقُصُ لَهُم نَصِیبٌ مِن لَذّةٍ فَاحذَرُوا عِبَادَ اللّهِ المَوتَ وَ قُربَهُ وَ أَعِدّوا لَهُ عُدّتَهُ فَإِنّهُ یأَتیِ بِأَمرٍ عَظِیمٍ وَ خَطبٍ جَلِیلٍ بِخَیرٍ لَا یَکُونُ مَعَهُ شَرّ أَبَداً أَو شَرّ لَا یَکُونُ مَعَهُ خَیرٌ أَبَداً فَمَن أَقرَبُ إِلَی الجَنّةِ مِن عَامِلِهَا وَ مَن أَقرَبُ إِلَی النّارِ مِن عَامِلِهَا وَ أَنتُم طُرَدَاءُ المَوتِ إِن أَقَمتُم لَهُ أَخَذَکُم وَ إِن فَرَرتُم مِنهُ أَدرَکَکُم وَ هُوَ أَلزَمُ لَکُم مِن ظِلّکُم المَوتُ مَعقُودٌ بِنَوَاصِیکُم وَ الدّنیَا تُطوَی مِن خَلفِکُم فَاحذَرُوا نَاراً قَعرُهَا بَعِیدٌ وَ حَرّهَا شَدِیدٌ وَ عَذَابُهَا جَدِیدٌ دَارٌ لَیسَ فِیهَا رَحمَةٌ وَ لَا تُسمَعُ فِیهَا دَعوَةٌ وَ لَا تُفَرّجُ فِیهَا کُربَةٌ وَ إِنِ استَطَعتُم أَن یَشتَدّ خَوفُکُم مِنَ اللّهِ وَ أَن یَحسُنَ ظَنّکُم بِهِ فَاجمَعُوا بَینَهُمَا فَإِنّ العَبدَ إِنّمَا یَکُونُ حُسنُ ظَنّهِ بِرَبّهِ عَلَی قَدرِ خَوفِهِ مِن رَبّهِ وَ إِنّ أَحسَنَ النّاسِ ظَنّاً بِاللّهِ أَشَدّهُم خَوفاً لِلّهِ وَ اعلَم یَا مُحَمّدَ بنَ أَبِی بَکرٍ أنَیّ قَد وَلّیتُکَ أَعظَمَ أجَناَدیِ فِی نفَسیِ أَهلَ مِصرَ فَأَنتَ مَحقُوقٌ أَن تُخَالِفَ عَلَی نَفسِکَ وَ أَن تُنَافِحَ عَن دِینِکَ وَ لَو لَم یَکُن لَکَ إِلّا سَاعَةٌ مِنَ الدّهرِ وَ لَا تُسخِطِ اللّهَ بِرِضَا أَحَدٍ مِن خَلقِهِ فَإِنّ فِی اللّهِ خَلَفاً مِن غَیرِهِ وَ لَیسَ مِنَ اللّهِ خَلَفٌ فِی غَیرِهِ صَلّ الصّلَاةَ لِوَقتِهَا المُؤَقّتِ لَهَا وَ لَا تُعَجّل وَقتَهَا لِفَرَاغٍ وَ لَا تُؤَخّرهَا عَن وَقتِهَا لِاشتِغَالٍ وَ اعلَم أَنّ کُلّ شَیءٍ مِن عَمَلِکَ تَبَعٌ لِصَلَاتِکَ وَ مِنهُفَإِنّهُ لَا سَوَاءَ إِمَامُ الهُدَی وَ إِمَامُ الرّدَی وَ ولَیِ‌ّ النّبِیّ وَ عَدُوّ النّبِیّ وَ لَقَد قَالَ لِی رَسُولُ اللّهِ\u001eص إنِیّ لَا أَخَافُ عَلَی أمُتّیِ مُؤمِناً وَ لَا مُشرِکاً أَمّا المُؤمِنُ فَیَمنَعُهُ اللّهُ بِإِیمَانِهِ وَ أَمّا المُشرِکُ فَیَقمَعُهُ اللّهُ بِشِرکِهِ وَ لکَنِیّ أَخَافُ عَلَیکُم کُلّ مُنَافِقِ الجَنَانِ عَالِمِ اللّسَانِ یَقُولُ مَا تَعرِفُونَ وَ یَفعَلُ مَا تُنکِرُونَ                                                                                                                                                                                                                                                                                                                                                                    |\n",
            "|  57 | أَصَابَکُم حَاصِبٌ وَ لَا بقَیِ‌َ مِنکُم آثِرٌ أَ بَعدَ إیِماَنیِ بِاللّهِ وَ جهِاَدیِ مَعَ رَسُولِ اللّهِ\u001eص أَشهَدُ عَلَی نفَسیِ بِالکُفرِ لَقَد ضَلَلتُ إِذاً وَ ما أَنَا مِنَ المُهتَدِینَفَأُوبُوا شَرّ مَآبٍ وَ ارجِعُوا عَلَی أَثَرِ الأَعقَابِ أَمَا إِنّکُم سَتَلقَونَ بعَدیِ ذُلّا شَامِلًا وَ سَیفاً قَاطِعاً وَ أَثَرَةً یَتّخِذُهَا الظّالِمُونَ فِیکُم سُنّةً                                                                                                                                                                                                                                                                                                                                                                    |\n",
            "| 279 | فَإِنّکَ قَد جَعَلتَ دِینَکَ تَبَعاً لِدُنیَا امر‌ِئٍ ظَاهِرٍ غَیّهُ مَهتُوکٍ سِترُهُ یَشِینُ الکَرِیمَ بِمَجلِسِهِ وَ یُسَفّهُ الحَلِیمَ بِخِلطَتِهِ فَاتّبَعتَ أَثَرَهُ وَ طَلَبتَ فَضلَهُ اتّبَاعَ الکَلبِ لِلضّرغَامِ یَلُوذُ بِمَخَالِبِهِ وَ یَنتَظِرُ مَا یُلقَی إِلَیهِ مِن فَضلِ فَرِیسَتِهِ فَأَذهَبتَ دُنیَاکَ وَ آخِرَتَکَ وَ لَو بِالحَقّ أَخَذتَ أَدرَکتَ مَا طَلَبتَ فَإِن یمُکَنّیّ اللّهُ مِنکَ وَ مِنِ ابنِ أَبِی سُفیَانَ أَجزِکُمَا بِمَا قَدّمتُمَا وَ إِن تُعجِزَا وَ تَبقَیَا فَمَا أَمَامَکُمَا شَرّ لَکُمَا وَ السّلَامُ               |\n",
            "Similar verses from Sahife (WORD-LEVEL):\n",
            "|     | verse                                                                                                                                                                                                                                                                                                                                     |\n",
            "|----:|:------------------------------------------------------------------------------------------------------------------------------------------------------------------------------------------------------------------------------------------------------------------------------------------------------------------------------------------|\n",
            "| 536 | فَسُبْحَانَکَ! مَا أَبْیَنَ کَرَمَکَ فِي مُعَامَلَةِ مَنْ أَطَاعَکَ أَوْ عَصَاکَ: تَشْکُرُ لِلْمُطِیعِ مَا أَنْتَ تَوَلَّیْتَه‌ُ لَه‌ُ، وَ تُمْلِي لِلْعَاصِي فِیمَا تَمْلِکُ مُعَاجَلَتَه‌ُ فِیه‌ِ.                                                                                                                                                                                                                      |\n",
            "| 128 | وَ أَجْزِلْ لَنَا فِیه‌ِ مِنَ الْحَسَنَاتِ، وَ أَخْلِنَا فِیه‌ِ مِنَ السَّیِّئَاتِ، وَ امْلَأْ لَنَا مَا بَیْنَ طَرَفَیْه‌ِ حَمْداً وَ شُکْراً وَ أَجْراً وَ ذُخْراً وَ فَضْلًا وَ إِحْسَاناً.                                                                                                                                                                                                                     |\n",
            "| 360 | وَ امْنُنْ عَلَيَّ بِالصِّحَّةِ وَ الْأَمْنِ وَ السَّلَامَةِ فِي دِینِي وَ بَدَنِي، وَ الْبَصِیرَةِ فِي قَلْبِي، وَ النَّفَاذِ فِي أُمُورِي، وَ الْخَشْیَةِ لَکَ، وَ الْخَوْفِ مِنْکَ، وَ الْقُوَّةِ عَلَی مَا أَمَرْتَنِي بِه‌ِ مِنْ طَاعَتِکَ، وَ الِاجْتِنَابِ لِمَا نَهَیْتَنِيإِذَا انْصَرَفَ مِنْ صَلَاتِه‌ِ قَامَ قَائِماً ثُمَّ اسْتَقْبَلَ الْقِبْلَةَ، وَ فِي یَوْمِ الْجُمُعَةِ، فَقَالَ:)  عَنْه‌ُ مِنْ مَعْصِیَتِکَ.                                                                        |\n",
            "| 608 | وَ أَنْ نَتَقَرَّبَ إِلَیْکَ فِیه‌ِ مِنَ الْأَعْمَالِ الزَّاکِیَةِ بِمَا تُطَهِّرُنَا بِه‌ِ مِنَ الذُّنُوبِ، وَ تَعْصِمُنَا فِیه‌ِ مِمَّا نَسْتَأْنِفُ مِنَ الْعُیُوبِ، حَتَّی لَا یُورِدَ عَلَیْکَ أَحَدٌ مِنْ مَلَائِکَتِکَ إِلَّا دُونَ مَا نُورِدُ مِنْ أَبْوَابِ الطَّاعَةِ لَکَ، وَ أَنْوَاعِ الْقُرْبَةِ إِلَیْکَ.                                                                                                                                               |\n",
            "| 553 | وَ أَسْتَحْمِلُکَ مِنْ ذُنُوبِي مَا قَدْ بَهَظَنِي حَمْلُه‌ُ، وَ أَسْتَعِینُ بِکَ عَلَی مَا قَدْ فَدَحَنِي ثِقْلُه‌ُ.                                                                                                                                                                                                                                                                    |\n",
            "| 821 | وَ لَا تَذَرْنِي فِي طُغْیَانِي عَامِهاً، وَ لَا فِي غَمْرَتِي سَاهِیاً حَتَّی حِینٍ، وَ لَا تَجْعَلْنِي عِظَةً لِمَنِ اتَّعَظَ، وَ لَا نَکَالًا لِمَنِ اعْتَبَرَ، وَ لَا فِتْنَةً لِمَنْ نَظَرَ، وَ لَا تَمْکُرْ بِي فِیمَنْ تَمْکُرُ بِه‌ِ، وَ لَا تَسْتَبْدِلْ بِي غَیْرِي، وَ لَا تُغَیِّرْ لِي اسْماً، وَ لَا تُبَدِّلْ لِي جِسْماً، وَ لَا تَتَّخِذْنِي هُزُواً لِخَلْقِکَ، وَ لَا سُخْرِیّاً لَکَ، وَ لَا تَبَعاً إِلَّا لِمَرْضَاتِکَ، وَ لَا مُمْتَهَناً إِلَّا بِالانْتِقَامِ لَکَ.                             |\n",
            "| 313 | اللَّهُمَّ اجْعَلْ مَا یُلْقِي الشَّیْطَانُ فِي رُوعِي مِنَ التَّمَنِّي وَ التَّظَنِّي وَ الْحَسَدِ ذِکْراً لِعَظَمَتِکَ، وَ تَفَکُّراً فِي قُدْرَتِکَ، وَ تَدْبِیراً عَلَی عَدُوِّکَ، وَ مَا أَجْرَی عَلَی لِسَانِي مِنْ لَفْظَةِ فُحْشٍ أَوْ هُجْرٍ أَوْ شَتْمِ عِرْضٍ أَوْ شَهَادَةِ بَاطِلٍ أَوِ اغْتِیَابِ مُؤْمِنٍ غَائِبٍ أَوْ سَبِّ حَاضِرٍ وَ مَا أَشْبَه‌َ ذَلِکَ نُطْقاً بِالْحَمْدِ لَکَ، وَ إِغْرَاقاً فِي الثَّنَاءِ عَلَیْکَ، وَ ذَهَاباً فِي تَمْجِیدِکَ، وَ شُکْراً لِنِعْمَتِکَ، وَ اعْتِرَافاً بِإِحْسَانِکَ، وَ إِحْصَاءً لِمِنَنِکَ. |\n",
            "| 153 | وَ نَعُوذُ بِکَ أَنْ نَنْطَوِيَ عَلَی غِشِّ أَحَدٍ، وَ أَنْ نُعْجِبَ بِأَعْمَالِنَا، وَ نَمُدَّ فِي آمَالِنَا                                                                                                                                                                                                                                                                        |\n",
            "| 303 | اللَّهُمَّ صَلِّ عَلَی مُحَمَّدٍ وَ آلِه‌ِ، وَ اکْفِنِي مَا یَشْغَلُنِي الِاهْتِمَامُ بِه‌ِ، وَ اسْتَعْمِلْنِي بِمَا تَسْأَلُنِي غَداً عَنْه‌ُ، وَ اسْتَفْرِغْ أَیَّامِي فِیمَا خَلَقْتَنِي لَه‌ُ، وَ أَغْنِنِي وَ أَوْسِعْ عَلَيَّ فِي رِزْقِکَ، وَ لَا تَفْتِنِّي بِالنَّظَرِ، وَ أَعِزَّنِي وَ لَا تَبْتَلِیَنِّي بِالْکِبْرِ، وَ عَبِّدْنِي لَکَ وَ لَا تُفْسِدْ عِبَادَتِي بِالْعُجْبِ، وَ أَجْرِ لِلنَّاسِ عَلَی یَدِيَ الْخَیْرَ وَ لَا تَمْحَقْه‌ُ بِالْمَنِّ، وَ هَبْ لِي مَعَالِيَ الْأَخْلَاقِ، وَ اعْصِمْنِي مِنَ الْفَخْرِ.               |\n",
            "|  45 | حَتَّی اسْتَتَبَّ لَه‌ُ مَا حَاوَلَ فِي أَعْدَائِکَ                                                                                                                                                                                                                                                                                                            |\n"
          ]
        }
      ]
    },
    {
      "cell_type": "code",
      "source": [
        "# Shuffle Quran Word-Level similar verses for MRR calculation\n",
        "QW_shuffled = QW.sample(frac=1)\n",
        "print(QW_shuffled.to_markdown())"
      ],
      "metadata": {
        "colab": {
          "base_uri": "https://localhost:8080/"
        },
        "id": "J8yns3VbWF4r",
        "outputId": "fc1b8be0-64cb-4611-daa8-339bb3c7fd45"
      },
      "execution_count": null,
      "outputs": [
        {
          "output_type": "stream",
          "name": "stdout",
          "text": [
            "|      | verse                                                                              |\n",
            "|-----:|:-----------------------------------------------------------------------------------|\n",
            "| 6233 | مِنْ شَرِّ الْوَسْوَاسِ الْخَنَّاسِ                                                               |\n",
            "| 1181 | إِنَّ شَرَّ الدَّوَابِّ عِنْدَ اللَّهِ الصُّمُّ الْبُكْمُ الَّذِينَ لَا يَعْقِلُونَ                                   |\n",
            "| 6227 | وَمِنْ شَرِّ غَاسِقٍ إِذَا وَقَبَ                                                                |\n",
            "| 6135 | إِنَّ الَّذِينَ كَفَرُوا مِنْ أَهْلِ الْكِتَابِ وَالْمُشْرِكِينَ فِي نَارِ جَهَنَّمَ خَالِدِينَ فِيهَا ۚ أُولَٰئِكَ هُمْ شَرُّ الْبَرِيَّةِ |\n",
            "| 2888 | الَّذِينَ يُحْشَرُونَ عَلَىٰ وُجُوهِهِمْ إِلَىٰ جَهَنَّمَ أُولَٰئِكَ شَرٌّ مَكَانًا وَأَضَلُّ سَبِيلًا                         |\n",
            "| 5601 | فَوَقَاهُمُ اللَّهُ شَرَّ ذَٰلِكَ الْيَوْمِ وَلَقَّاهُمْ نَضْرَةً وَسُرُورًا                                        |\n",
            "| 1214 | إِنَّ شَرَّ الدَّوَابِّ عِنْدَ اللَّهِ الَّذِينَ كَفَرُوا فَهُمْ لَا يُؤْمِنُونَ                                    |\n",
            "| 6226 | مِنْ شَرِّ مَا خَلَقَ                                                                       |\n",
            "| 6229 | وَمِنْ شَرِّ حَاسِدٍ إِذَا حَسَدَ                                                                |\n",
            "| 6228 | وَمِنْ شَرِّ النَّفَّاثَاتِ فِي الْعُقَدِ                                                           |\n"
          ]
        }
      ]
    },
    {
      "cell_type": "code",
      "source": [
        "# Shuffle Nahj Word-Level similar verses for MRR calculation\n",
        "NW_shuffled = NW.sample(frac=1)\n",
        "print(NW_shuffled.to_markdown())"
      ],
      "metadata": {
        "colab": {
          "base_uri": "https://localhost:8080/"
        },
        "id": "jIp_iOEDWe34",
        "outputId": "46fbc5b6-6a94-4baa-b2fa-844fa60cebd6"
      },
      "execution_count": null,
      "outputs": [
        {
          "output_type": "stream",
          "name": "stdout",
          "text": [
            "|     | verse                                                                                                                                                                                                                                                                                                                                                              |\n",
            "|----:|:-------------------------------------------------------------------------------------------------------------------------------------------------------------------------------------------------------------------------------------------------------------------------------------------------------------------------------------------------------------------|\n",
            "| 245 | وَ إِنّ عَمَلَکَ لَیسَ لَکَ بِطُعمَةٍ وَ لَکِنّهُ فِی عُنُقِکَ أَمَانَةٌ وَ أَنتَ مُستَرعًی لِمَن فَوقَکَ لَیسَ لَکَ أَن تَفتَاتَ فِی رَعِیّةٍ وَ لَا تُخَاطِرَ إِلّا بِوَثِیقَةٍ وَ فِی یَدَیکَ مَالٌ مِن مَالِ اللّهِ عَزّ وَ جَلّ وَ أَنتَ مِن خُزّانِهِ حَتّی تُسَلّمَهُ إلِیَ‌ّ وَ لعَلَیّ أَلّا أَکُونَ شَرّ وُلَاتِکَ لَکَ وَ السّلَامُ                                                                                                                                                |\n",
            "| 267 | فَاخفِض لَهُم جَنَاحَکَ وَ أَلِن لَهُم جَانِبَکَ وَ ابسُط لَهُم وَجهَکَ وَ آسِ بَینَهُم فِی اللّحظَةِ وَ النّظرَةِ حَتّی لَا یَطمَعَ العُظَمَاءُ فِی حَیفِکَ لَهُم وَ لَا یَیأَسَ الضّعَفَاءُ مِن عَدلِکَ عَلَیهِم فَإِنّ اللّهَ تَعَالَی یُسَائِلُکُم مَعشَرَ عِبَادِهِ عَنِ الصّغِیرَةِ مِن أَعمَالِکُم وَ الکَبِیرَةِ وَ الظّاهِرَةِ وَ المَستُورَةِ فَإِن یُعَذّب فَأَنتُم أَظلَمُ وَ إِن یَعفُ فَهُوَ أَکرَمُ وَ اعلَمُوا عِبَادَ اللّهِ أَنّ المُتّقِینَ ذَهَبُوا بِعَاجِلِ الدّنیَا وَ آجِلِ الآخِرَةِ فَشَارَکُوا أَهلَ الدّنیَا فِی دُنیَاهُم وَ لَم یُشَارِکُوا أَهلَ الدّنیَا فِی آخِرَتِهِم سَکَنُوا الدّنیَا بِأَفضَلِ مَا سُکِنَت وَ أَکَلُوهَا بِأَفضَلِ مَا أُکِلَت فَحَظُوا مِنَ الدّنیَا بِمَا حظَیِ‌َ بِهِ المُترَفُونَ وَ أَخَذُوا مِنهَا مَا أَخَذَهُ الجَبَابِرَةُ المُتَکَبّرُونَ ثُمّ انقَلَبُوا عَنهَا بِالزّادِ المُبَلّغِ وَ المَتجَرِ الرّابِحِ أَصَابُوا لَذّةَ زُهدِ الدّنیَا فِی دُنیَاهُم وَ تَیَقّنُوا أَنّهُم جِیرَانُ اللّهِ غَداً فِی آخِرَتِهِم لَا تُرَدّ لَهُم دَعوَةٌ وَ لَا یَنقُصُ لَهُم نَصِیبٌ مِن لَذّةٍ فَاحذَرُوا عِبَادَ اللّهِ المَوتَ وَ قُربَهُ وَ أَعِدّوا لَهُ عُدّتَهُ فَإِنّهُ یأَتیِ بِأَمرٍ عَظِیمٍ وَ خَطبٍ جَلِیلٍ بِخَیرٍ لَا یَکُونُ مَعَهُ شَرّ أَبَداً أَو شَرّ لَا یَکُونُ مَعَهُ خَیرٌ أَبَداً فَمَن أَقرَبُ إِلَی الجَنّةِ مِن عَامِلِهَا وَ مَن أَقرَبُ إِلَی النّارِ مِن عَامِلِهَا وَ أَنتُم طُرَدَاءُ المَوتِ إِن أَقَمتُم لَهُ أَخَذَکُم وَ إِن فَرَرتُم مِنهُ أَدرَکَکُم وَ هُوَ أَلزَمُ لَکُم مِن ظِلّکُم المَوتُ مَعقُودٌ بِنَوَاصِیکُم وَ الدّنیَا تُطوَی مِن خَلفِکُم فَاحذَرُوا نَاراً قَعرُهَا بَعِیدٌ وَ حَرّهَا شَدِیدٌ وَ عَذَابُهَا جَدِیدٌ دَارٌ لَیسَ فِیهَا رَحمَةٌ وَ لَا تُسمَعُ فِیهَا دَعوَةٌ وَ لَا تُفَرّجُ فِیهَا کُربَةٌ وَ إِنِ استَطَعتُم أَن یَشتَدّ خَوفُکُم مِنَ اللّهِ وَ أَن یَحسُنَ ظَنّکُم بِهِ فَاجمَعُوا بَینَهُمَا فَإِنّ العَبدَ إِنّمَا یَکُونُ حُسنُ ظَنّهِ بِرَبّهِ عَلَی قَدرِ خَوفِهِ مِن رَبّهِ وَ إِنّ أَحسَنَ النّاسِ ظَنّاً بِاللّهِ أَشَدّهُم خَوفاً لِلّهِ وَ اعلَم یَا مُحَمّدَ بنَ أَبِی بَکرٍ أنَیّ قَد وَلّیتُکَ أَعظَمَ أجَناَدیِ فِی نفَسیِ أَهلَ مِصرَ فَأَنتَ مَحقُوقٌ أَن تُخَالِفَ عَلَی نَفسِکَ وَ أَن تُنَافِحَ عَن دِینِکَ وَ لَو لَم یَکُن لَکَ إِلّا سَاعَةٌ مِنَ الدّهرِ وَ لَا تُسخِطِ اللّهَ بِرِضَا أَحَدٍ مِن خَلقِهِ فَإِنّ فِی اللّهِ خَلَفاً مِن غَیرِهِ وَ لَیسَ مِنَ اللّهِ خَلَفٌ فِی غَیرِهِ صَلّ الصّلَاةَ لِوَقتِهَا المُؤَقّتِ لَهَا وَ لَا تُعَجّل وَقتَهَا لِفَرَاغٍ وَ لَا تُؤَخّرهَا عَن وَقتِهَا لِاشتِغَالٍ وَ اعلَم أَنّ کُلّ شَیءٍ مِن عَمَلِکَ تَبَعٌ لِصَلَاتِکَ وَ مِنهُفَإِنّهُ لَا سَوَاءَ إِمَامُ الهُدَی وَ إِمَامُ الرّدَی وَ ولَیِ‌ّ النّبِیّ وَ عَدُوّ النّبِیّ وَ لَقَد قَالَ لِی رَسُولُ اللّهِ\u001eص إنِیّ لَا أَخَافُ عَلَی أمُتّیِ مُؤمِناً وَ لَا مُشرِکاً أَمّا المُؤمِنُ فَیَمنَعُهُ اللّهُ بِإِیمَانِهِ وَ أَمّا المُشرِکُ فَیَقمَعُهُ اللّهُ بِشِرکِهِ وَ لکَنِیّ أَخَافُ عَلَیکُم کُلّ مُنَافِقِ الجَنَانِ عَالِمِ اللّسَانِ یَقُولُ مَا تَعرِفُونَ وَ یَفعَلُ مَا تُنکِرُونَ                                                                                                                                                                                                                                                                                                                                                                    |\n",
            "| 798 | وَ قَالَ ع شَرّ الإِخوَانِ مَن تُکُلّفَ لَهُ                                                                                                                                                                                                                                                                                                                                      |\n",
            "| 688 | وَ قَالَ ع یأَتیِ عَلَی النّاسِ زَمَانٌ لَا یَبقَی فِیهِم مِنَ القُرآنِ إِلّا رَسمُهُ وَ مِنَ الإِسلَامِ إِلّا اسمُهُ وَ مَسَاجِدُهُم یَومَئِذٍ عَامِرَةٌ مِنَ البِنَاءِ خَرَابٌ مِنَ الهُدَی سُکّانُهَا وَ عُمّارُهَا شَرّ أَهلِ الأَرضِ مِنهُم تَخرُجُ الفِتنَةُ وَ إِلَیهِم تأَویِ الخَطِیئَةُ یَرُدّونَ مَن شَذّ عَنهَا فِیهَا وَ یَسُوقُونَ مَن تَأَخّرَ عَنهَا إِلَیهَا یَقُولُ اللّهُ سُبحَانَهُ فبَیِ حَلَفتُ لَأَبعَثَنّ عَلَی أُولَئِکَ فِتنَةً تَترُکُ الحَلِیمَ فِیهَا حَیرَانَ وَ قَد فَعَلَ وَ نَحنُ نَستَقِیلُ اللّهَ عَثرَةَ الغَفلَةِ |\n",
            "| 351 | وَ قَالَ ع فَاعِلُ الخَیرِ خَیرٌ مِنهُ وَ فَاعِلُ الشّرّ شَرّ مِنهُ                                                                                                                                                                                                                                                                                                                      |\n",
            "| 557 | وَ قَالَ ع المَرأَةُ شَرّ کُلّهَا وَ شَرّ مَا فِیهَا أَنّهُ لَا بُدّ مِنهَا                                                                                                                                                                                                                                                                                                                 |\n",
            "| 706 | وَ قَالَ ع مَا خَیرٌ بِخَیرٍ بَعدَهُ النّارُ وَ مَا شَرّ بِشَرّ بَعدَهُ الجَنّةُ وَ کُلّ نَعِیمٍ دُونَ الجَنّةِ فَهُوَ مَحقُورٌ وَ کُلّ بَلَاءٍ دُونَ النّارِ عَافِیَةٌ                                                                                                                                                                                                                                                      |\n",
            "|  25 | إِنّ اللّهَ بَعَثَ مُحَمّداً\u001eص نَذِیراً لِلعَالَمِینَ وَ أَمِیناً عَلَی التّنزِیلِ وَ أَنتُم مَعشَرَ العَرَبِ عَلَی شَرّ دِینٍ وَ فِی شَرّ دَارٍ مُنِیخُونَ بَینَ حِجَارَةٍ خُشنٍ وَ حَیّاتٍ صُمّ تَشرَبُونَ الکَدِرَ وَ تَأکُلُونَ الجَشِبَ وَ تَسفِکُونَ دِمَاءَکُم وَ تَقطَعُونَ أَرحَامَکُم الأَصنَامُ فِیکُم مَنصُوبَةٌ وَ الآثَامُ بِکُم مَعصُوبَةٌ فَنَظَرتُ فَإِذَا لَیسَ لِی مُعِینٌ إِلّا أَهلُ بیَتیِ فَضَنِنتُ بِهِم عَنِ المَوتِ وَ أَغضَیتُ عَلَی القَذَی وَ شَرِبتُ عَلَی الشّجَا وَ صَبَرتُ عَلَی أَخذِ الکَظَمِ وَ عَلَی أَمَرّ مِن طَعمِ العَلقَمِ ومنها وَ لَم یُبَایِع حَتّی شَرَطَ أَن یُؤتِیَهُ عَلَی البَیعَةِ ثَمَناً فَلَا ظَفِرَت یَدُ البَائِعِ وَ خَزِیَت أَمَانَةُ المُبتَاعِ فَخُذُوا لِلحَربِ أُهبَتَهَا وَ أَعِدّوا لَهَا عُدّتَهَا فَقَد شَبّ لَظَاهَا وَ عَلَا سَنَاهَا وَ استَشعِرُوا الصّبرَ فَإِنّهُ أَدعَی إِلَی النّصرِ                                                                                                                                                                                                                                                                                                                                                                    |\n",
            "| 279 | فَإِنّکَ قَد جَعَلتَ دِینَکَ تَبَعاً لِدُنیَا امر‌ِئٍ ظَاهِرٍ غَیّهُ مَهتُوکٍ سِترُهُ یَشِینُ الکَرِیمَ بِمَجلِسِهِ وَ یُسَفّهُ الحَلِیمَ بِخِلطَتِهِ فَاتّبَعتَ أَثَرَهُ وَ طَلَبتَ فَضلَهُ اتّبَاعَ الکَلبِ لِلضّرغَامِ یَلُوذُ بِمَخَالِبِهِ وَ یَنتَظِرُ مَا یُلقَی إِلَیهِ مِن فَضلِ فَرِیسَتِهِ فَأَذهَبتَ دُنیَاکَ وَ آخِرَتَکَ وَ لَو بِالحَقّ أَخَذتَ أَدرَکتَ مَا طَلَبتَ فَإِن یمُکَنّیّ اللّهُ مِنکَ وَ مِنِ ابنِ أَبِی سُفیَانَ أَجزِکُمَا بِمَا قَدّمتُمَا وَ إِن تُعجِزَا وَ تَبقَیَا فَمَا أَمَامَکُمَا شَرّ لَکُمَا وَ السّلَامُ               |\n",
            "|  57 | أَصَابَکُم حَاصِبٌ وَ لَا بقَیِ‌َ مِنکُم آثِرٌ أَ بَعدَ إیِماَنیِ بِاللّهِ وَ جهِاَدیِ مَعَ رَسُولِ اللّهِ\u001eص أَشهَدُ عَلَی نفَسیِ بِالکُفرِ لَقَد ضَلَلتُ إِذاً وَ ما أَنَا مِنَ المُهتَدِینَفَأُوبُوا شَرّ مَآبٍ وَ ارجِعُوا عَلَی أَثَرِ الأَعقَابِ أَمَا إِنّکُم سَتَلقَونَ بعَدیِ ذُلّا شَامِلًا وَ سَیفاً قَاطِعاً وَ أَثَرَةً یَتّخِذُهَا الظّالِمُونَ فِیکُم سُنّةً                                                                                                                                                                                                                                                                                                                                                                    |\n"
          ]
        }
      ]
    },
    {
      "cell_type": "code",
      "source": [
        "# Shuffle Sahife Word-Level similar verses for MRR calculation\n",
        "SW_shuffled = SW.sample(frac=1)\n",
        "print(SW_shuffled.to_markdown())"
      ],
      "metadata": {
        "colab": {
          "base_uri": "https://localhost:8080/"
        },
        "id": "XC2ROFwcWjgv",
        "outputId": "57f5ec76-8009-4a30-c8a7-0d6e6a5c0bda"
      },
      "execution_count": null,
      "outputs": [
        {
          "output_type": "stream",
          "name": "stdout",
          "text": [
            "|     | verse                                                                                                                                                                                                                                                                                                                                     |\n",
            "|----:|:------------------------------------------------------------------------------------------------------------------------------------------------------------------------------------------------------------------------------------------------------------------------------------------------------------------------------------------|\n",
            "| 153 | وَ نَعُوذُ بِکَ أَنْ نَنْطَوِيَ عَلَی غِشِّ أَحَدٍ، وَ أَنْ نُعْجِبَ بِأَعْمَالِنَا، وَ نَمُدَّ فِي آمَالِنَا                                                                                                                                                                                                                                                                        |\n",
            "| 608 | وَ أَنْ نَتَقَرَّبَ إِلَیْکَ فِیه‌ِ مِنَ الْأَعْمَالِ الزَّاکِیَةِ بِمَا تُطَهِّرُنَا بِه‌ِ مِنَ الذُّنُوبِ، وَ تَعْصِمُنَا فِیه‌ِ مِمَّا نَسْتَأْنِفُ مِنَ الْعُیُوبِ، حَتَّی لَا یُورِدَ عَلَیْکَ أَحَدٌ مِنْ مَلَائِکَتِکَ إِلَّا دُونَ مَا نُورِدُ مِنْ أَبْوَابِ الطَّاعَةِ لَکَ، وَ أَنْوَاعِ الْقُرْبَةِ إِلَیْکَ.                                                                                                                                               |\n",
            "| 536 | فَسُبْحَانَکَ! مَا أَبْیَنَ کَرَمَکَ فِي مُعَامَلَةِ مَنْ أَطَاعَکَ أَوْ عَصَاکَ: تَشْکُرُ لِلْمُطِیعِ مَا أَنْتَ تَوَلَّیْتَه‌ُ لَه‌ُ، وَ تُمْلِي لِلْعَاصِي فِیمَا تَمْلِکُ مُعَاجَلَتَه‌ُ فِیه‌ِ.                                                                                                                                                                                                                      |\n",
            "|  45 | حَتَّی اسْتَتَبَّ لَه‌ُ مَا حَاوَلَ فِي أَعْدَائِکَ                                                                                                                                                                                                                                                                                                            |\n",
            "| 128 | وَ أَجْزِلْ لَنَا فِیه‌ِ مِنَ الْحَسَنَاتِ، وَ أَخْلِنَا فِیه‌ِ مِنَ السَّیِّئَاتِ، وَ امْلَأْ لَنَا مَا بَیْنَ طَرَفَیْه‌ِ حَمْداً وَ شُکْراً وَ أَجْراً وَ ذُخْراً وَ فَضْلًا وَ إِحْسَاناً.                                                                                                                                                                                                                     |\n",
            "| 360 | وَ امْنُنْ عَلَيَّ بِالصِّحَّةِ وَ الْأَمْنِ وَ السَّلَامَةِ فِي دِینِي وَ بَدَنِي، وَ الْبَصِیرَةِ فِي قَلْبِي، وَ النَّفَاذِ فِي أُمُورِي، وَ الْخَشْیَةِ لَکَ، وَ الْخَوْفِ مِنْکَ، وَ الْقُوَّةِ عَلَی مَا أَمَرْتَنِي بِه‌ِ مِنْ طَاعَتِکَ، وَ الِاجْتِنَابِ لِمَا نَهَیْتَنِيإِذَا انْصَرَفَ مِنْ صَلَاتِه‌ِ قَامَ قَائِماً ثُمَّ اسْتَقْبَلَ الْقِبْلَةَ، وَ فِي یَوْمِ الْجُمُعَةِ، فَقَالَ:)  عَنْه‌ُ مِنْ مَعْصِیَتِکَ.                                                                        |\n",
            "| 821 | وَ لَا تَذَرْنِي فِي طُغْیَانِي عَامِهاً، وَ لَا فِي غَمْرَتِي سَاهِیاً حَتَّی حِینٍ، وَ لَا تَجْعَلْنِي عِظَةً لِمَنِ اتَّعَظَ، وَ لَا نَکَالًا لِمَنِ اعْتَبَرَ، وَ لَا فِتْنَةً لِمَنْ نَظَرَ، وَ لَا تَمْکُرْ بِي فِیمَنْ تَمْکُرُ بِه‌ِ، وَ لَا تَسْتَبْدِلْ بِي غَیْرِي، وَ لَا تُغَیِّرْ لِي اسْماً، وَ لَا تُبَدِّلْ لِي جِسْماً، وَ لَا تَتَّخِذْنِي هُزُواً لِخَلْقِکَ، وَ لَا سُخْرِیّاً لَکَ، وَ لَا تَبَعاً إِلَّا لِمَرْضَاتِکَ، وَ لَا مُمْتَهَناً إِلَّا بِالانْتِقَامِ لَکَ.                             |\n",
            "| 553 | وَ أَسْتَحْمِلُکَ مِنْ ذُنُوبِي مَا قَدْ بَهَظَنِي حَمْلُه‌ُ، وَ أَسْتَعِینُ بِکَ عَلَی مَا قَدْ فَدَحَنِي ثِقْلُه‌ُ.                                                                                                                                                                                                                                                                    |\n",
            "| 313 | اللَّهُمَّ اجْعَلْ مَا یُلْقِي الشَّیْطَانُ فِي رُوعِي مِنَ التَّمَنِّي وَ التَّظَنِّي وَ الْحَسَدِ ذِکْراً لِعَظَمَتِکَ، وَ تَفَکُّراً فِي قُدْرَتِکَ، وَ تَدْبِیراً عَلَی عَدُوِّکَ، وَ مَا أَجْرَی عَلَی لِسَانِي مِنْ لَفْظَةِ فُحْشٍ أَوْ هُجْرٍ أَوْ شَتْمِ عِرْضٍ أَوْ شَهَادَةِ بَاطِلٍ أَوِ اغْتِیَابِ مُؤْمِنٍ غَائِبٍ أَوْ سَبِّ حَاضِرٍ وَ مَا أَشْبَه‌َ ذَلِکَ نُطْقاً بِالْحَمْدِ لَکَ، وَ إِغْرَاقاً فِي الثَّنَاءِ عَلَیْکَ، وَ ذَهَاباً فِي تَمْجِیدِکَ، وَ شُکْراً لِنِعْمَتِکَ، وَ اعْتِرَافاً بِإِحْسَانِکَ، وَ إِحْصَاءً لِمِنَنِکَ. |\n",
            "| 303 | اللَّهُمَّ صَلِّ عَلَی مُحَمَّدٍ وَ آلِه‌ِ، وَ اکْفِنِي مَا یَشْغَلُنِي الِاهْتِمَامُ بِه‌ِ، وَ اسْتَعْمِلْنِي بِمَا تَسْأَلُنِي غَداً عَنْه‌ُ، وَ اسْتَفْرِغْ أَیَّامِي فِیمَا خَلَقْتَنِي لَه‌ُ، وَ أَغْنِنِي وَ أَوْسِعْ عَلَيَّ فِي رِزْقِکَ، وَ لَا تَفْتِنِّي بِالنَّظَرِ، وَ أَعِزَّنِي وَ لَا تَبْتَلِیَنِّي بِالْکِبْرِ، وَ عَبِّدْنِي لَکَ وَ لَا تُفْسِدْ عِبَادَتِي بِالْعُجْبِ، وَ أَجْرِ لِلنَّاسِ عَلَی یَدِيَ الْخَیْرَ وَ لَا تَمْحَقْه‌ُ بِالْمَنِّ، وَ هَبْ لِي مَعَالِيَ الْأَخْلَاقِ، وَ اعْصِمْنِي مِنَ الْفَخْرِ.               |\n"
          ]
        }
      ]
    },
    {
      "cell_type": "code",
      "source": [
        "# Find similar verses\n",
        "#____________________________________________________________________________________________________________________\n",
        "QC = pd.DataFrame(get_similars_from_quran(input, vectorizer_quran , quran_indices_nrmlz, 'char'))\n",
        "NC = pd.DataFrame(get_similars_from_nahj(input, vectorizer_nahj , nahj_indices_nrmlz, 'char'))\n",
        "SC = pd.DataFrame(get_similars_from_sahife(input, vectorizer_sahife , sahife_indices_nrmlz, 'char'))\n",
        "#____________________________________________________________________________________________________________________\n",
        "\n",
        "print(\"Similar verses from quran (CHAR-LEVEL):\")\n",
        "print(QC.to_markdown())\n",
        "print(\"Similar verses from Nahj (CHAR-LEVEL):\")\n",
        "print(NC.to_markdown())\n",
        "print(\"Similar verses from Sahife (CHAR-LEVEL):\")\n",
        "print(SC.to_markdown())"
      ],
      "metadata": {
        "colab": {
          "base_uri": "https://localhost:8080/"
        },
        "outputId": "a087b7c6-8859-45a3-bfa0-e5178501db8e",
        "id": "bILK_i_j3lKV"
      },
      "execution_count": null,
      "outputs": [
        {
          "output_type": "stream",
          "name": "stdout",
          "text": [
            "Similar verses from quran (CHAR-LEVEL):\n",
            "|      | verse                                                                         |\n",
            "|-----:|:------------------------------------------------------------------------------|\n",
            "| 6233 | مِنْ شَرِّ الْوَسْوَاسِ الْخَنَّاسِ                                                          |\n",
            "| 4266 | لَا يَسْأَمُ الْإِنْسَانُ مِنْ دُعَاءِ الْخَيْرِ وَإِنْ مَسَّهُ الشَّرُّ فَيَئُوسٌ قَنُوطٌ                         |\n",
            "| 6177 | إِنَّ الْإِنْسَانَ لَفِي خُسْرٍ                                                            |\n",
            "| 4822 | وَأَنْ لَيْسَ لِلْإِنْسَانِ إِلَّا مَا سَعَىٰ                                                    |\n",
            "| 5489 | إِنَّا أَرْسَلْنَا إِلَيْكُمْ رَسُولًا شَاهِدًا عَلَيْكُمْ كَمَا أَرْسَلْنَا إِلَىٰ فِرْعَوْنَ رَسُولًا                 |\n",
            "| 5814 | فَلَا أُقْسِمُ بِالْخُنَّسِ                                                               |\n",
            "| 3114 | وَلَا تَبْخَسُوا النَّاسَ أَشْيَاءَهُمْ وَلَا تَعْثَوْا فِي الْأَرْضِ مُفْسِدِينَ                            |\n",
            "| 3910 | وَإِنَّ إِلْيَاسَ لَمِنَ الْمُرْسَلِينَ                                                        |\n",
            "| 1782 | وَسَخَّرَ لَكُمُ الشَّمْسَ وَالْقَمَرَ دَائِبَيْنِ ۖ وَسَخَّرَ لَكُمُ اللَّيْلَ وَالنَّهَارَ                          |\n",
            "| 3400 | وَلَئِنْ سَأَلْتَهُمْ مَنْ خَلَقَ السَّمَاوَاتِ وَالْأَرْضَ وَسَخَّرَ الشَّمْسَ وَالْقَمَرَ لَيَقُولُنَّ اللَّهُ ۖ فَأَنَّىٰ يُؤْفَكُونَ |\n",
            "Similar verses from Nahj (CHAR-LEVEL):\n",
            "|     | verse                                                                                                                                                                                                                                                                                                                                                                                                                                                                                                                                                                                            |\n",
            "|----:|:-------------------------------------------------------------------------------------------------------------------------------------------------------------------------------------------------------------------------------------------------------------------------------------------------------------------------------------------------------------------------------------------------------------------------------------------------------------------------------------------------------------------------------------------------------------------------------------------------|\n",
            "| 117 | أَنتُمُ الأَنصَارُ عَلَی الحَقّ وَ الإِخوَانُ فِی الدّینِ وَ الجُنَنُ یَومَ البَأسِ وَ البِطَانَةُ دُونَ النّاسِ بِکُم أَضرِبُ المُدبِرَ وَ أَرجُو طَاعَةَ المُقبِلِ فأَعَیِنوُنیِ بِمُنَاصَحَةٍ خَلِیّةٍ مِنَ الغِشّ سَلِیمَةٍ مِنَ الرّیبِ فَوَاللّهِ إنِیّ لَأَولَی النّاسِ بِالنّاسِ                                                                                                                                                                                                                                                                                                                                                                                                     |\n",
            "|  65 | مَعَاشِرَ المُسلِمِینَ استَشعِرُوا الخَشیَةَ وَ تَجَلبَبُوا السّکِینَةَ وَ عَضّوا عَلَی النّوَاجِذِ فَإِنّهُ أَنبَی لِلسّیُوفِ عَنِ الهَامِ وَ أَکمِلُوا اللّأمَةَ وَ قَلقِلُوا السّیُوفَ فِی أَغمَادِهَا قَبلَ سَلّهَا وَ الحَظُوا الخَزرَ وَ اطعُنُوا الشّزرَ وَ نَافِحُوا بِالظّبَی وَ صِلُوا السّیُوفَ بِالخُطَا وَ اعلَمُوا أَنّکُم بِعَینِ اللّهِ وَ مَعَ ابنِ عَمّ رَسُولِ اللّهِ فَعَاوِدُوا الکَرّ وَ استَحیُوا مِنَ الفَرّ فَإِنّهُ عَارٌ فِی الأَعقَابِ وَ نَارٌ یَومَ الحِسَابِ وَ طِیبُوا عَن أَنفُسِکُم نَفساً وَ امشُوا إِلَی المَوتِ مَشیاً سُجُحاً وَ عَلَیکُم بِهَذَا السّوَادِ الأَعظَمِ وَ الرّوَاقِ المُطَنّبِ فَاضرِبُوا ثَبَجَهُ فَإِنّ الشّیطَانَ کَامِنٌ فِی کِسرِهِ وَ قَد قَدّمَ لِلوَثبَةِ یَداً وَ أَخّرَ لِلنّکُوصِ رِجلًا فَصَمداً صَمداً حَتّی ینَجلَیِ‌َ لَکُم عَمُودُ الحَقّوَ أَنتُمُ الأَعلَونَ وَ اللّهُ مَعَکُم وَ لَن یَتِرَکُم أَعمالَکُم |\n",
            "| 418 | وَ سَمِعَ رَجُلًا یَقُولُإِنّا لِلّهِ وَ إِنّا إِلَیهِ راجِعُونَ فَقَالَ إِنّ قَولَنَاإِنّا لِلّهِإِقرَارٌ عَلَی أَنفُسِنَا بِالمُلکِ وَ قَولَنَاوَ إِنّا إِلَیهِ راجِعُونَإِقرَارٌ عَلَی أَنفُسِنَا بِالهُلکِ                                                                                                                                                                                                                                                                                                                                                                                                                                                             |\n",
            "| 200 | أَیّهَا النّاسُ لَا تَستَوحِشُوا فِی طَرِیقِ الهُدَی لِقِلّةِ أَهلِهِ فَإِنّ النّاسَ قَدِ اجتَمَعُوا عَلَی مَائِدَةٍ شِبَعُهَا قَصِیرٌ وَ جُوعُهَا طَوِیلٌ أَیّهَا النّاسُ إِنّمَا یَجمَعُ النّاسَ الرّضَا وَ السّخطُ وَ إِنّمَا عَقَرَ نَاقَةَ ثَمُودَ رَجُلٌ وَاحِدٌ فَعَمّهُمُ اللّهُ بِالعَذَابِ لَمّا عَمّوهُ بِالرّضَا فَقَالَ سُبحَانَهُفَعَقَرُوها فَأَصبَحُوا نادِمِینَفَمَا کَانَ إِلّا أَن خَارَت أَرضُهُم بِالخَسفَةِ خُوَارَ السّکّةِ المُحمَاةِ فِی الأَرضِ الخَوّارَةِ أَیّهَا النّاسُ مَن سَلَکَ الطّرِیقَ الوَاضِحَ وَرَدَ المَاءَ وَ مَن خَالَفَ وَقَعَ فِی التّیهِ                                                                                                                                                                                                          |\n",
            "| 751 | وَ قَالَ ع إِنّ أَولِیَاءَ اللّهِ هُمُ الّذِینَ نَظَرُوا إِلَی بَاطِنِ الدّنیَا إِذَا نَظَرَ النّاسُ إِلَی ظَاهِرِهَا وَ اشتَغَلُوا بِآجِلِهَا إِذَا اشتَغَلَ النّاسُ بِعَاجِلِهَا فَأَمَاتُوا مِنهَا مَا خَشُوا أَن یُمِیتَهُم وَ تَرَکُوا مِنهَا مَا عَلِمُوا أَنّهُ سَیَترُکُهُم وَ رَأَوُا استِکثَارَ غَیرِهِم مِنهَا استِقلَالًا وَ دَرَکَهُم لَهَا فَوتاً أَعدَاءُ مَا سَالَمَ النّاسُ وَ سَلمُ مَا عَادَی النّاسُ بِهِم عُلِمَ الکِتَابُ وَ بِهِ عَلِمُوا وَ بِهِم قَامَ الکِتَابُ وَ بِهِ قَامُوا لَا یَرَونَ مَرجُوّاً فَوقَ مَا یَرجُونَ وَ لَا مَخُوفاً فَوقَ مَا یَخَافُونَ                                                                                                                                                                                                   |\n",
            "| 635 | وَ قَالَ ع أَنَا یَعسُوبُ المُؤمِنِینَ وَ المَالُ یَعسُوبُ الفُجّارِ                                                                                                                                                                                                                                                                                                                                                                                                                                                                                                                                                  |\n",
            "| 546 | وَ سُئِلَ عَنِ الإِیمَانِ فَقَالَ الإِیمَانُ مَعرِفَةٌ بِالقَلبِ وَ إِقرَارٌ بِاللّسَانِ وَ عَمَلٌ بِالأَرکَانِ                                                                                                                                                                                                                                                                                                                                                                                                                                                                                                                        |\n",
            "| 535 | وَ قَالَ ع مَن نَالَ استَطَالَ                                                                                                                                                                                                                                                                                                                                                                                                                                                                                                                                                                            |\n",
            "| 444 | وَ قَالَ ع لَأَنسُبَنّ الإِسلَامَ نِسبَةً لَم یَنسُبهَا أَحَدٌ قبَلیِ الإِسلَامُ هُوَ التّسلِیمُ وَ التّسلِیمُ هُوَ الیَقِینُ وَ الیَقِینُ هُوَ التّصدِیقُ وَ التّصدِیقُ هُوَ الإِقرَارُ وَ الإِقرَارُ هُوَ الأَدَاءُ وَ الأَدَاءُ هُوَ العَمَلُ                                                                                                                                                                                                                                                                                                                                                                                                                             |\n",
            "|  52 | وَ مِن تَمَامِ الأُضحِیّةِ استِشرَافُ أُذُنِهَا وَ سَلَامَةُ عَینِهَا فَإِذَا سَلِمَتِ الأُذُنُ وَ العَینُ سَلِمَتِ الأُضحِیّةُ وَ تَمّت وَ لَو کَانَت عَضبَاءَ القَرنِ تَجُرّ رِجلَهَا إِلَی المَنسَکِ                                                                                                                                                                                                                                                                                                                                                                                                                                                              |\n",
            "Similar verses from Sahife (CHAR-LEVEL):\n",
            "|     | verse                                                                                                                                                                                                                                                                                                         |\n",
            "|----:|:--------------------------------------------------------------------------------------------------------------------------------------------------------------------------------------------------------------------------------------------------------------------------------------------------------------|\n",
            "| 599 | وَ الْحَمْدُ لِلَّه‌ِ الَّذِي حَبَانَا بِدِینِه‌ِ، وَ اخْتَصَّنَا بِمِلَّتِه‌ِ، وَ سَبَّلَنَا فِي سُبُلِ إِحْسَانِه‌ِ لِنَسْلُکَهَا بِمَنِّه‌ِ إِلَی رِضْوَانِه‌ِ، حَمْداً یَتَقَبَّلُه‌ُ مِنَّا، وَ یَرْضَی بِه‌ِ عَنَّا                                                                                                                                                                                   |\n",
            "| 821 | وَ لَا تَذَرْنِي فِي طُغْیَانِي عَامِهاً، وَ لَا فِي غَمْرَتِي سَاهِیاً حَتَّی حِینٍ، وَ لَا تَجْعَلْنِي عِظَةً لِمَنِ اتَّعَظَ، وَ لَا نَکَالًا لِمَنِ اعْتَبَرَ، وَ لَا فِتْنَةً لِمَنْ نَظَرَ، وَ لَا تَمْکُرْ بِي فِیمَنْ تَمْکُرُ بِه‌ِ، وَ لَا تَسْتَبْدِلْ بِي غَیْرِي، وَ لَا تُغَیِّرْ لِي اسْماً، وَ لَا تُبَدِّلْ لِي جِسْماً، وَ لَا تَتَّخِذْنِي هُزُواً لِخَلْقِکَ، وَ لَا سُخْرِیّاً لَکَ، وَ لَا تَبَعاً إِلَّا لِمَرْضَاتِکَ، وَ لَا مُمْتَهَناً إِلَّا بِالانْتِقَامِ لَکَ. |\n",
            "| 777 | أَنَا الَّذِي هَابَ عِبَادَکَ وَ أَمِنَکَ.                                                                                                                                                                                                                                                                                    |\n",
            "| 527 | اللَّهُمَّ إِنَّ أَحَداً لَا یَبْلُغُ مِنْ شُکْرِکَ غَایَةً إِلَّا حَصَلَ عَلَیْه‌ِ مِنْ إِحْسَانِکَ مَا یُلْزِمُه‌ُ شُکْراً.                                                                                                                                                                                                                                      |\n",
            "| 273 | اللَّهُمَّ صَلِّ عَلَی مُحَمَّدٍ وَ آلِه‌ِ، وَ قِنِي مِنَ الْمَعَاصِي، وَ اسْتَعْمِلْنِي بِالطَّاعَةِ، وَ ارْزُقْنِي حُسْنَ الْإِنَابَةِ، وَ طَهِّرْنِي بِالتَّوْبَةِ، وَ أَیِّدْنِي بِالْعِصْمَةِ، وَ اسْتَصْلِحْنِي بِالْعَافِیَةِ، وَ أَذِقْنِي حَلَاوَةَ الْمَغْفِرَةِ، وَ اجْعَلْنِي طَلِیقَ عَفْوِکَ، وَ عَتِیقَ رَحْمَتِکَ، وَ اکْتُبْ لِي أَمَاناً مِنْ سُخْطِکَ، وَ بَشِّرْنِي بِذَلِکَ فِي الْعَاجِلِ دُونَ الْآجِلِ، بُشْرَی أَعْرِفُهَا، وَ عَرِّفْنِي فِیه‌ِ عَلَامَةً أَتَبَیَّنُهَا.       |\n",
            "| 691 | حُجَّتُکَ قَائِمَةٌ لَا تُدْحَضُ، وَ سُلْطَانُکَ ثَابِتٌ لَا یَزُولُ، فَالْوَیْلُ الدَّائِمُ لِمَنْ جَنَحَ عَنْکَ، وَ الْخَیْبَةُ الْخَاذِلَةُ لِمَنْ خَابَ مِنْکَ، وَ الشَّقَاءُ الْأَشْقَی لِمَنِ اغْتَرَّ بِکَ.                                                                                                                                                                              |\n",
            "| 621 | إِنْ أَعْطَیْتَ لَمْ تَشُبْ عَطَاءَکَ بِمَنٍّ، وَ إِنْ مَنَعْتَ لَمْ یَکُنْ مَنْعُکَ تَعَدِّیاً.                                                                                                                                                                                                                                                       |\n",
            "| 653 | السَّلَامُ عَلَیْکَ غَیْرَ مُوَدَّعٍ بَرَماً وَ لَا مَتْرُوکٍ صِیَامُه‌ُ سَأَماً.                                                                                                                                                                                                                                                              |\n",
            "| 817 | وَ إِذَا أَرَدْتَ بِقَوْمٍ فِتْنَةً أَوْ سُوءاً فَنَجِّنِي مِنْهَا لِوَاذاً بِکَ، وَ إِذْ لَمْ تُقِمْنِي مَقَامَ فَضِیحَةٍ فِي دُنْیَاکَ فَلَا تُقِمْنِي مِثْلَه‌ُ فِي آخِرَتِکَ                                                                                                                                                                                                   |\n",
            "| 440 | وَ یَا مَنْ لَا یُجَاوِزُه‌ُ رَجَاءُ الرَّاجِینَ                                                                                                                                                                                                                                                                                |\n"
          ]
        }
      ]
    },
    {
      "cell_type": "code",
      "source": [
        "# Shuffle Quran Char-Level similar verses for MRR calculation\n",
        "QC_shuffled = QC.sample(frac=1)\n",
        "print(QC_shuffled.to_markdown())"
      ],
      "metadata": {
        "colab": {
          "base_uri": "https://localhost:8080/"
        },
        "id": "Jen2vDABWnM9",
        "outputId": "553dd700-d266-42ab-de79-f13234c664a4"
      },
      "execution_count": null,
      "outputs": [
        {
          "output_type": "stream",
          "name": "stdout",
          "text": [
            "|      | verse                                                                         |\n",
            "|-----:|:------------------------------------------------------------------------------|\n",
            "| 3400 | وَلَئِنْ سَأَلْتَهُمْ مَنْ خَلَقَ السَّمَاوَاتِ وَالْأَرْضَ وَسَخَّرَ الشَّمْسَ وَالْقَمَرَ لَيَقُولُنَّ اللَّهُ ۖ فَأَنَّىٰ يُؤْفَكُونَ |\n",
            "| 5489 | إِنَّا أَرْسَلْنَا إِلَيْكُمْ رَسُولًا شَاهِدًا عَلَيْكُمْ كَمَا أَرْسَلْنَا إِلَىٰ فِرْعَوْنَ رَسُولًا                 |\n",
            "| 3114 | وَلَا تَبْخَسُوا النَّاسَ أَشْيَاءَهُمْ وَلَا تَعْثَوْا فِي الْأَرْضِ مُفْسِدِينَ                            |\n",
            "| 6233 | مِنْ شَرِّ الْوَسْوَاسِ الْخَنَّاسِ                                                          |\n",
            "| 5814 | فَلَا أُقْسِمُ بِالْخُنَّسِ                                                               |\n",
            "| 1782 | وَسَخَّرَ لَكُمُ الشَّمْسَ وَالْقَمَرَ دَائِبَيْنِ ۖ وَسَخَّرَ لَكُمُ اللَّيْلَ وَالنَّهَارَ                          |\n",
            "| 4822 | وَأَنْ لَيْسَ لِلْإِنْسَانِ إِلَّا مَا سَعَىٰ                                                    |\n",
            "| 4266 | لَا يَسْأَمُ الْإِنْسَانُ مِنْ دُعَاءِ الْخَيْرِ وَإِنْ مَسَّهُ الشَّرُّ فَيَئُوسٌ قَنُوطٌ                         |\n",
            "| 6177 | إِنَّ الْإِنْسَانَ لَفِي خُسْرٍ                                                            |\n",
            "| 3910 | وَإِنَّ إِلْيَاسَ لَمِنَ الْمُرْسَلِينَ                                                        |\n"
          ]
        }
      ]
    },
    {
      "cell_type": "code",
      "source": [
        "# Shuffle Nahj Char-Level similar verses for MRR calculation\n",
        "NC_shuffled = NC.sample(frac=1)\n",
        "print(NC_shuffled.to_markdown())"
      ],
      "metadata": {
        "colab": {
          "base_uri": "https://localhost:8080/"
        },
        "id": "Bu6ESB8BWrZk",
        "outputId": "7a1b7707-273b-45aa-b903-92d59c382e1f"
      },
      "execution_count": null,
      "outputs": [
        {
          "output_type": "stream",
          "name": "stdout",
          "text": [
            "|     | verse                                                                                                                                                                                                                                                                                                                                                                                                                                                                                                                                                                                            |\n",
            "|----:|:-------------------------------------------------------------------------------------------------------------------------------------------------------------------------------------------------------------------------------------------------------------------------------------------------------------------------------------------------------------------------------------------------------------------------------------------------------------------------------------------------------------------------------------------------------------------------------------------------|\n",
            "| 535 | وَ قَالَ ع مَن نَالَ استَطَالَ                                                                                                                                                                                                                                                                                                                                                                                                                                                                                                                                                                            |\n",
            "| 635 | وَ قَالَ ع أَنَا یَعسُوبُ المُؤمِنِینَ وَ المَالُ یَعسُوبُ الفُجّارِ                                                                                                                                                                                                                                                                                                                                                                                                                                                                                                                                                  |\n",
            "| 200 | أَیّهَا النّاسُ لَا تَستَوحِشُوا فِی طَرِیقِ الهُدَی لِقِلّةِ أَهلِهِ فَإِنّ النّاسَ قَدِ اجتَمَعُوا عَلَی مَائِدَةٍ شِبَعُهَا قَصِیرٌ وَ جُوعُهَا طَوِیلٌ أَیّهَا النّاسُ إِنّمَا یَجمَعُ النّاسَ الرّضَا وَ السّخطُ وَ إِنّمَا عَقَرَ نَاقَةَ ثَمُودَ رَجُلٌ وَاحِدٌ فَعَمّهُمُ اللّهُ بِالعَذَابِ لَمّا عَمّوهُ بِالرّضَا فَقَالَ سُبحَانَهُفَعَقَرُوها فَأَصبَحُوا نادِمِینَفَمَا کَانَ إِلّا أَن خَارَت أَرضُهُم بِالخَسفَةِ خُوَارَ السّکّةِ المُحمَاةِ فِی الأَرضِ الخَوّارَةِ أَیّهَا النّاسُ مَن سَلَکَ الطّرِیقَ الوَاضِحَ وَرَدَ المَاءَ وَ مَن خَالَفَ وَقَعَ فِی التّیهِ                                                                                                                                                                                                          |\n",
            "| 418 | وَ سَمِعَ رَجُلًا یَقُولُإِنّا لِلّهِ وَ إِنّا إِلَیهِ راجِعُونَ فَقَالَ إِنّ قَولَنَاإِنّا لِلّهِإِقرَارٌ عَلَی أَنفُسِنَا بِالمُلکِ وَ قَولَنَاوَ إِنّا إِلَیهِ راجِعُونَإِقرَارٌ عَلَی أَنفُسِنَا بِالهُلکِ                                                                                                                                                                                                                                                                                                                                                                                                                                                             |\n",
            "| 444 | وَ قَالَ ع لَأَنسُبَنّ الإِسلَامَ نِسبَةً لَم یَنسُبهَا أَحَدٌ قبَلیِ الإِسلَامُ هُوَ التّسلِیمُ وَ التّسلِیمُ هُوَ الیَقِینُ وَ الیَقِینُ هُوَ التّصدِیقُ وَ التّصدِیقُ هُوَ الإِقرَارُ وَ الإِقرَارُ هُوَ الأَدَاءُ وَ الأَدَاءُ هُوَ العَمَلُ                                                                                                                                                                                                                                                                                                                                                                                                                             |\n",
            "| 117 | أَنتُمُ الأَنصَارُ عَلَی الحَقّ وَ الإِخوَانُ فِی الدّینِ وَ الجُنَنُ یَومَ البَأسِ وَ البِطَانَةُ دُونَ النّاسِ بِکُم أَضرِبُ المُدبِرَ وَ أَرجُو طَاعَةَ المُقبِلِ فأَعَیِنوُنیِ بِمُنَاصَحَةٍ خَلِیّةٍ مِنَ الغِشّ سَلِیمَةٍ مِنَ الرّیبِ فَوَاللّهِ إنِیّ لَأَولَی النّاسِ بِالنّاسِ                                                                                                                                                                                                                                                                                                                                                                                                     |\n",
            "| 751 | وَ قَالَ ع إِنّ أَولِیَاءَ اللّهِ هُمُ الّذِینَ نَظَرُوا إِلَی بَاطِنِ الدّنیَا إِذَا نَظَرَ النّاسُ إِلَی ظَاهِرِهَا وَ اشتَغَلُوا بِآجِلِهَا إِذَا اشتَغَلَ النّاسُ بِعَاجِلِهَا فَأَمَاتُوا مِنهَا مَا خَشُوا أَن یُمِیتَهُم وَ تَرَکُوا مِنهَا مَا عَلِمُوا أَنّهُ سَیَترُکُهُم وَ رَأَوُا استِکثَارَ غَیرِهِم مِنهَا استِقلَالًا وَ دَرَکَهُم لَهَا فَوتاً أَعدَاءُ مَا سَالَمَ النّاسُ وَ سَلمُ مَا عَادَی النّاسُ بِهِم عُلِمَ الکِتَابُ وَ بِهِ عَلِمُوا وَ بِهِم قَامَ الکِتَابُ وَ بِهِ قَامُوا لَا یَرَونَ مَرجُوّاً فَوقَ مَا یَرجُونَ وَ لَا مَخُوفاً فَوقَ مَا یَخَافُونَ                                                                                                                                                                                                   |\n",
            "|  52 | وَ مِن تَمَامِ الأُضحِیّةِ استِشرَافُ أُذُنِهَا وَ سَلَامَةُ عَینِهَا فَإِذَا سَلِمَتِ الأُذُنُ وَ العَینُ سَلِمَتِ الأُضحِیّةُ وَ تَمّت وَ لَو کَانَت عَضبَاءَ القَرنِ تَجُرّ رِجلَهَا إِلَی المَنسَکِ                                                                                                                                                                                                                                                                                                                                                                                                                                                              |\n",
            "|  65 | مَعَاشِرَ المُسلِمِینَ استَشعِرُوا الخَشیَةَ وَ تَجَلبَبُوا السّکِینَةَ وَ عَضّوا عَلَی النّوَاجِذِ فَإِنّهُ أَنبَی لِلسّیُوفِ عَنِ الهَامِ وَ أَکمِلُوا اللّأمَةَ وَ قَلقِلُوا السّیُوفَ فِی أَغمَادِهَا قَبلَ سَلّهَا وَ الحَظُوا الخَزرَ وَ اطعُنُوا الشّزرَ وَ نَافِحُوا بِالظّبَی وَ صِلُوا السّیُوفَ بِالخُطَا وَ اعلَمُوا أَنّکُم بِعَینِ اللّهِ وَ مَعَ ابنِ عَمّ رَسُولِ اللّهِ فَعَاوِدُوا الکَرّ وَ استَحیُوا مِنَ الفَرّ فَإِنّهُ عَارٌ فِی الأَعقَابِ وَ نَارٌ یَومَ الحِسَابِ وَ طِیبُوا عَن أَنفُسِکُم نَفساً وَ امشُوا إِلَی المَوتِ مَشیاً سُجُحاً وَ عَلَیکُم بِهَذَا السّوَادِ الأَعظَمِ وَ الرّوَاقِ المُطَنّبِ فَاضرِبُوا ثَبَجَهُ فَإِنّ الشّیطَانَ کَامِنٌ فِی کِسرِهِ وَ قَد قَدّمَ لِلوَثبَةِ یَداً وَ أَخّرَ لِلنّکُوصِ رِجلًا فَصَمداً صَمداً حَتّی ینَجلَیِ‌َ لَکُم عَمُودُ الحَقّوَ أَنتُمُ الأَعلَونَ وَ اللّهُ مَعَکُم وَ لَن یَتِرَکُم أَعمالَکُم |\n",
            "| 546 | وَ سُئِلَ عَنِ الإِیمَانِ فَقَالَ الإِیمَانُ مَعرِفَةٌ بِالقَلبِ وَ إِقرَارٌ بِاللّسَانِ وَ عَمَلٌ بِالأَرکَانِ                                                                                                                                                                                                                                                                                                                                                                                                                                                                                                                        |\n"
          ]
        }
      ]
    },
    {
      "cell_type": "code",
      "source": [
        "# Shuffle Sahife Char-Level similar verses for MRR calculation\n",
        "SC_shuffled = SC.sample(frac=1)\n",
        "print(SC_shuffled.to_markdown())"
      ],
      "metadata": {
        "colab": {
          "base_uri": "https://localhost:8080/"
        },
        "id": "69JfAQ73Wu9Q",
        "outputId": "cfc21b11-6549-4d61-c917-d4fbcfb0728c"
      },
      "execution_count": null,
      "outputs": [
        {
          "output_type": "stream",
          "name": "stdout",
          "text": [
            "|     | verse                                                                                                                                                                                                                                                                                                         |\n",
            "|----:|:--------------------------------------------------------------------------------------------------------------------------------------------------------------------------------------------------------------------------------------------------------------------------------------------------------------|\n",
            "| 273 | اللَّهُمَّ صَلِّ عَلَی مُحَمَّدٍ وَ آلِه‌ِ، وَ قِنِي مِنَ الْمَعَاصِي، وَ اسْتَعْمِلْنِي بِالطَّاعَةِ، وَ ارْزُقْنِي حُسْنَ الْإِنَابَةِ، وَ طَهِّرْنِي بِالتَّوْبَةِ، وَ أَیِّدْنِي بِالْعِصْمَةِ، وَ اسْتَصْلِحْنِي بِالْعَافِیَةِ، وَ أَذِقْنِي حَلَاوَةَ الْمَغْفِرَةِ، وَ اجْعَلْنِي طَلِیقَ عَفْوِکَ، وَ عَتِیقَ رَحْمَتِکَ، وَ اکْتُبْ لِي أَمَاناً مِنْ سُخْطِکَ، وَ بَشِّرْنِي بِذَلِکَ فِي الْعَاجِلِ دُونَ الْآجِلِ، بُشْرَی أَعْرِفُهَا، وَ عَرِّفْنِي فِیه‌ِ عَلَامَةً أَتَبَیَّنُهَا.       |\n",
            "| 821 | وَ لَا تَذَرْنِي فِي طُغْیَانِي عَامِهاً، وَ لَا فِي غَمْرَتِي سَاهِیاً حَتَّی حِینٍ، وَ لَا تَجْعَلْنِي عِظَةً لِمَنِ اتَّعَظَ، وَ لَا نَکَالًا لِمَنِ اعْتَبَرَ، وَ لَا فِتْنَةً لِمَنْ نَظَرَ، وَ لَا تَمْکُرْ بِي فِیمَنْ تَمْکُرُ بِه‌ِ، وَ لَا تَسْتَبْدِلْ بِي غَیْرِي، وَ لَا تُغَیِّرْ لِي اسْماً، وَ لَا تُبَدِّلْ لِي جِسْماً، وَ لَا تَتَّخِذْنِي هُزُواً لِخَلْقِکَ، وَ لَا سُخْرِیّاً لَکَ، وَ لَا تَبَعاً إِلَّا لِمَرْضَاتِکَ، وَ لَا مُمْتَهَناً إِلَّا بِالانْتِقَامِ لَکَ. |\n",
            "| 777 | أَنَا الَّذِي هَابَ عِبَادَکَ وَ أَمِنَکَ.                                                                                                                                                                                                                                                                                    |\n",
            "| 599 | وَ الْحَمْدُ لِلَّه‌ِ الَّذِي حَبَانَا بِدِینِه‌ِ، وَ اخْتَصَّنَا بِمِلَّتِه‌ِ، وَ سَبَّلَنَا فِي سُبُلِ إِحْسَانِه‌ِ لِنَسْلُکَهَا بِمَنِّه‌ِ إِلَی رِضْوَانِه‌ِ، حَمْداً یَتَقَبَّلُه‌ُ مِنَّا، وَ یَرْضَی بِه‌ِ عَنَّا                                                                                                                                                                                   |\n",
            "| 621 | إِنْ أَعْطَیْتَ لَمْ تَشُبْ عَطَاءَکَ بِمَنٍّ، وَ إِنْ مَنَعْتَ لَمْ یَکُنْ مَنْعُکَ تَعَدِّیاً.                                                                                                                                                                                                                                                       |\n",
            "| 691 | حُجَّتُکَ قَائِمَةٌ لَا تُدْحَضُ، وَ سُلْطَانُکَ ثَابِتٌ لَا یَزُولُ، فَالْوَیْلُ الدَّائِمُ لِمَنْ جَنَحَ عَنْکَ، وَ الْخَیْبَةُ الْخَاذِلَةُ لِمَنْ خَابَ مِنْکَ، وَ الشَّقَاءُ الْأَشْقَی لِمَنِ اغْتَرَّ بِکَ.                                                                                                                                                                              |\n",
            "| 440 | وَ یَا مَنْ لَا یُجَاوِزُه‌ُ رَجَاءُ الرَّاجِینَ                                                                                                                                                                                                                                                                                |\n",
            "| 653 | السَّلَامُ عَلَیْکَ غَیْرَ مُوَدَّعٍ بَرَماً وَ لَا مَتْرُوکٍ صِیَامُه‌ُ سَأَماً.                                                                                                                                                                                                                                                              |\n",
            "| 527 | اللَّهُمَّ إِنَّ أَحَداً لَا یَبْلُغُ مِنْ شُکْرِکَ غَایَةً إِلَّا حَصَلَ عَلَیْه‌ِ مِنْ إِحْسَانِکَ مَا یُلْزِمُه‌ُ شُکْراً.                                                                                                                                                                                                                                      |\n",
            "| 817 | وَ إِذَا أَرَدْتَ بِقَوْمٍ فِتْنَةً أَوْ سُوءاً فَنَجِّنِي مِنْهَا لِوَاذاً بِکَ، وَ إِذْ لَمْ تُقِمْنِي مَقَامَ فَضِیحَةٍ فِي دُنْیَاکَ فَلَا تُقِمْنِي مِثْلَه‌ُ فِي آخِرَتِکَ                                                                                                                                                                                                   |\n"
          ]
        }
      ]
    }
  ]
}